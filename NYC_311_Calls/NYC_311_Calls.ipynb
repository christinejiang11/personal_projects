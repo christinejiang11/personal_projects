{
 "cells": [
  {
   "cell_type": "code",
   "execution_count": 1,
   "metadata": {},
   "outputs": [],
   "source": [
    "#ideas for importing data:\n",
    "#1. get data in batches: export to a list, export list to a csv, import csv for each new run - do data preprocessing\n",
    "#2. get data in batches, process each batch, export to a csv, import csv with specified datatypes\n",
    "#3. how big is a \"big\" dataset? whats the general limit for what i can export to work with on my computer?\n",
    "#4. multithreading vs. multiprocessing?\n",
    "#5. export data to a database? SQLalchemy\n",
    "#6. work directly in colab, then download and export to github?\n",
    "#\n",
    "#call with ori:\n",
    "#options:\n",
    "#1. download locally, wait for however long it takes, large = when it stops fitting in ram\n",
    "#mem = temp working space, fast to access but can't store much, might be erased; disk = long term storage\n",
    "#goal = get something done quickly\n",
    "#embarrassingly parallel problems: processes don't need to talk to each other \n",
    "\n",
    "#2. BQ: data stays in google servers, might have to pay eventually, if you need to do a lot of processing / really large datasets\n",
    "#take the processed results \n",
    "#use api to query from BQ\n",
    "\n",
    "#3. spark cluster on AWS\n",
    "\n",
    "#keep raw data - quickly recover\n",
    "\n",
    "#python stores each num as an obj; each obj has overhead involved (methods, value, ref count)\n",
    "#numpy stores all of these values as one obj"
   ]
  },
  {
   "cell_type": "markdown",
   "metadata": {},
   "source": [
    "## To Do:\n",
    "- multiprocessing or multithreading to get more data\n",
    "- save data to csv, use pandas to read in and indicate appropriate data types\n",
    "- data processing: add time, drop nulls\n",
    "- reduce memory\n",
    "- create cleaner categories; create function to indicate any new categories that need to be coded\n"
   ]
  },
  {
   "cell_type": "markdown",
   "metadata": {},
   "source": [
    "## Import dataset, reduce memory"
   ]
  },
  {
   "cell_type": "code",
   "execution_count": 5,
   "metadata": {},
   "outputs": [],
   "source": [
    "import pandas as pd\n",
    "import numpy as np\n",
    "import requests\n",
    "from sodapy import Socrata\n",
    "import os\n",
    "import seaborn as sns\n",
    "from matplotlib import pyplot as plt\n",
    "import sys\n",
    "from fuzzywuzzy import process\n",
    "from fuzzywuzzy import fuzz\n",
    "import pygsheets\n",
    "from datetime import datetime, date, time \n",
    "import json\n",
    "\n",
    "from bokeh.plotting import figure, output_file, output_notebook, show, save, reset_output, gmap\n",
    "from bokeh.models import ColumnDataSource, GMapOptions, HoverTool, BasicTicker, ColorBar, LinearColorMapper, PrintfTickFormatter\n",
    "from bokeh.palettes import Spectral6, all_palettes, brewer\n",
    "from bokeh.transform import factor_cmap, transform, linear_cmap\n",
    "from bokeh.layouts import column, row, layout, WidgetBox\n",
    "from bokeh.io import output_file, show\n",
    "from bokeh.sampledata.unemployment1948 import data\n",
    "from bokeh.models import CheckboxButtonGroup, CheckboxGroup, TextInput\n",
    "\n",
    "os.getcwd()\n",
    "pd.options.display.max_columns=50"
   ]
  },
  {
   "cell_type": "code",
   "execution_count": 6,
   "metadata": {},
   "outputs": [
    {
     "data": {
      "text/plain": [
       "[{'count': '1062164'}]"
      ]
     },
     "execution_count": 6,
     "metadata": {},
     "output_type": "execute_result"
    }
   ],
   "source": [
    "#define parameters for endpoint, dataset, and app token\n",
    "data_url = 'data.cityofnewyork.us'\n",
    "dataset = 'erm2-nwe9'\n",
    "app_token = 'dM7DDeidbAmgtydtJVV1epbiU'\n",
    "\n",
    "#sets up the connection, need application token to override throttling limits\n",
    "#username and password only required for creating or modifying data\n",
    "client = Socrata(data_url, app_token)\n",
    "client.timeout = 6000\n",
    "\n",
    "#count number of records in desired dataset\n",
    "record_count = client.get(dataset, select='count(*)', where=\"created_date >='2019-11-01'\")\n",
    "record_count"
   ]
  },
  {
   "cell_type": "code",
   "execution_count": 9,
   "metadata": {},
   "outputs": [],
   "source": [
    "def get_data(chunk_size=100000, total_rows=1000000):\n",
    "    start = 0\n",
    "    results=[]\n",
    "\n",
    "    #paginate through dataset in sets of 10000 to get all records since 2019\n",
    "    while True:\n",
    "        print(f'{start} rows retrieved')\n",
    "        results.extend(client.get(dataset,where=\"created_date >= '2019-11-01'\", \n",
    "                                  limit=chunk_size, offset=start))\n",
    "        start += chunk_size\n",
    "        if start > total_rows:\n",
    "            break\n",
    "    return results"
   ]
  },
  {
   "cell_type": "code",
   "execution_count": 8,
   "metadata": {},
   "outputs": [
    {
     "name": "stdout",
     "output_type": "stream",
     "text": [
      "0 rows retrieved\n",
      "100000 rows retrieved\n",
      "200000 rows retrieved\n",
      "300000 rows retrieved\n",
      "400000 rows retrieved\n",
      "500000 rows retrieved\n",
      "600000 rows retrieved\n",
      "700000 rows retrieved\n",
      "800000 rows retrieved\n",
      "900000 rows retrieved\n",
      "1000000 rows retrieved\n"
     ]
    }
   ],
   "source": [
    "orig_results = get_data()\n",
    "orig_df = pd.DataFrame(orig_results)\n",
    "orig_df.to_csv('/Users/linyu/Documents/Python/data/311_data.csv', index=False)"
   ]
  },
  {
   "cell_type": "code",
   "execution_count": 10,
   "metadata": {},
   "outputs": [],
   "source": [
    "def reduce_memory(df):\n",
    "    \"\"\"improved version of memory reduction function. uses pd.to_numeric to downcast types;\n",
    "    also considers whether there are few enough unique values to warrant use of category vs. object.\"\"\"\n",
    "    orig_size = df.memory_usage().sum()/1024**2\n",
    "    dtypes = df.dtypes.astype(str).unique()\n",
    "    converted_float = pd.DataFrame()\n",
    "    converted_int = pd.DataFrame()\n",
    "    converted_obj = pd.DataFrame()\n",
    "    converted_misc = pd.DataFrame()\n",
    "\n",
    "    #convert floats\n",
    "    selected_float = df.select_dtypes(include='float')\n",
    "    converted_float = selected_float.apply(pd.to_numeric, downcast='float')\n",
    "    float_size = selected_float.memory_usage().sum()/1024**2\n",
    "    converted_float_size = converted_float.memory_usage().sum()/1024**2\n",
    "    print(f'floats: {float_size:.2f} reduced to {converted_float_size:.2f} MB')\n",
    "\n",
    "    #convert ints\n",
    "    selected_int = df.select_dtypes(include='integer')\n",
    "    converted_int = selected_int.apply(pd.to_numeric, downcast='integer')\n",
    "    int_size = selected_int.memory_usage().sum()/1024**2\n",
    "    converted_int_size = converted_int.memory_usage().sum()/1024**2\n",
    "    print(f'ints: {int_size:.2f} reduced to {converted_int_size:.2f} MB')\n",
    "    \n",
    "    #convert objects / categories\n",
    "    selected_object = df.select_dtypes(include=['object', 'category'])\n",
    "    obj_size = selected_object.memory_usage().sum()/1024**2\n",
    "    for col in selected_object.columns:\n",
    "        count = len(selected_object[col])\n",
    "        unique = len(selected_object[col].astype(str).unique())\n",
    "        if unique < count/2:\n",
    "            converted_obj[col] = selected_object[col].astype(str).astype('category')\n",
    "        else:\n",
    "            converted_obj[col] = selected_object[col].astype(str)\n",
    "    converted_obj_size = converted_obj.memory_usage().sum()/1024**2\n",
    "    print(f'object: {obj_size:.2f} reduced to {converted_obj_size:.2f} MB')\n",
    "\n",
    "    #join floats, ints, and objects / categories\n",
    "    float_int = converted_float.join(converted_int)\n",
    "    float_int_obj = float_int.join(converted_obj)\n",
    "    \n",
    "    #for any columns of any other type, keep them the same and join to the converted dataframe\n",
    "    no_change_cols = [x for x in df.columns if x not in float_int_obj.columns]\n",
    "    reduced_df = float_int_obj.join(df[no_change_cols])\n",
    "    \n",
    "    #re-order columns to appear in original order\n",
    "    reduced_df = reduced_df[df.columns]\n",
    "    reduced_size = reduced_df.memory_usage().sum()/1024**2\n",
    "    print(f'final df: {orig_size:.2f} reduced to {reduced_size:.2f} MB, {(orig_size-reduced_size)/orig_size*100:.1f}% reduction')\n",
    "    return reduced_df"
   ]
  },
  {
   "cell_type": "code",
   "execution_count": 12,
   "metadata": {},
   "outputs": [
    {
     "name": "stderr",
     "output_type": "stream",
     "text": [
      "/Users/linyu/opt/anaconda3/lib/python3.7/site-packages/IPython/core/interactiveshell.py:3063: DtypeWarning: Columns (34,40) have mixed types.Specify dtype option on import or set low_memory=False.\n",
      "  interactivity=interactivity, compiler=compiler, result=result)\n"
     ]
    },
    {
     "name": "stdout",
     "output_type": "stream",
     "text": [
      "floats: 48.62 reduced to 24.31 MB\n",
      "ints: 8.10 reduced to 4.05 MB\n",
      "object: 275.52 reduced to 104.04 MB\n",
      "final df: 332.25 reduced to 132.40 MB, 60.2% reduction\n"
     ]
    }
   ],
   "source": [
    "#olddf - most dtypes are objects, some are ints and some are floats\n",
    "#BUT olddf datatypes get changed inplace after running reduce_mem_usage! becomes mostly categorical\n",
    "olddf = pd.read_csv('/Users/linyu/Documents/Python/data/311_data.csv')\n",
    "\n",
    "#newdf - most dtypes are categorical, some ints and floats\n",
    "newdf = reduce_memory(olddf)"
   ]
  },
  {
   "cell_type": "code",
   "execution_count": 13,
   "metadata": {},
   "outputs": [
    {
     "data": {
      "text/plain": [
       "<matplotlib.axes._subplots.AxesSubplot at 0x1b8a75b390>"
      ]
     },
     "metadata": {},
     "output_type": "display_data"
    },
    {
     "data": {
      "image/png": "[encoded data removed]",
      "text/plain": [
       "<Figure size 1080x288 with 2 Axes>"
      ]
     },
     "metadata": {
      "needs_background": "light"
     },
     "output_type": "display_data"
    }
   ],
   "source": [
    "#need to fix this - categorical blanks are not showing up as blanks\n",
    "plt.rc('figure',figsize=(15,4))\n",
    "#display(sns.heatmap(olddf.isnull()))\n",
    "display(sns.heatmap(newdf.isnull()))"
   ]
  },
  {
   "cell_type": "markdown",
   "metadata": {},
   "source": [
    "## Data Processing\n",
    "- need to create a function that will show the new, unmapped categories for each new imported dataset\n",
    "- need to indicate column types upon reading in with pandas, use the reduce memory function after preprocessing"
   ]
  },
  {
   "cell_type": "code",
   "execution_count": 14,
   "metadata": {},
   "outputs": [],
   "source": [
    "def preprocess_df(df):\n",
    "    '''drop columns that are mostly blank, create time-related columns from date columns'''\n",
    "    #drop mostly blank columns\n",
    "    cleandf = df.drop(['intersection_street_1',\n",
    "               'intersection_street_2',\n",
    "               'taxi_company_borough',\n",
    "               'taxi_pick_up_location',\n",
    "               'bridge_highway_name',\n",
    "               'bridge_highway_direction',\n",
    "               'road_ramp',\n",
    "               'bridge_highway_segment',\n",
    "               'landmark',\n",
    "               'vehicle_type'], axis=1, inplace=False)\n",
    "\n",
    "    #convert date related columns to datetime\n",
    "    for col in cleandf.columns:\n",
    "        if 'date' in col:\n",
    "            cleandf[col] = pd.to_datetime(cleandf[col])\n",
    "            \n",
    "    #created time-related columns from date columns\n",
    "    cleandf['created_mdy'] = [x.strftime('%Y-%m-%d') for x in cleandf['created_date']]\n",
    "    cleandf['created_year'] = [x.year for x in cleandf['created_date']]\n",
    "    cleandf['created_month'] = [x.strftime('%b') for x in cleandf['created_date']]\n",
    "    cleandf['created_day'] = [x.day for x in cleandf['created_date']]\n",
    "    cleandf['created_weekday'] = [x.strftime('%a') for x in cleandf['created_date']]\n",
    "    cleandf['created_week'] = [x.week for x in cleandf['created_date']]\n",
    "    cleandf['created_hour'] = [x.hour for x in cleandf['created_date']]\n",
    "    cleandf['closed_hour'] = [x.hour for x in cleandf['closed_date']]\n",
    "    cleandf['time_to_close'] = cleandf['closed_date'] - cleandf['created_date']\n",
    "    cleandf['count'] = 1\n",
    "    return cleandf"
   ]
  },
  {
   "cell_type": "code",
   "execution_count": 102,
   "metadata": {},
   "outputs": [],
   "source": [
    "def export_col_values(workbook, df, columns):\n",
    "    \"\"\"for a list of columns, creates a new sheet for each column and exports unique values and their counts to that sheet\"\"\"\n",
    "    for col in columns:\n",
    "        value_counts = df[col].value_counts()\n",
    "        counts_df = pd.DataFrame(value_counts).reset_index()\n",
    "        #was getting an error with using fillna for categorical column, need to cast to string\n",
    "        counts_df['index'] = counts_df['index'].astype(str)\n",
    "        try:\n",
    "            worksheet = workbook.worksheet_by_title(col)\n",
    "        except Exception:\n",
    "            #ensure the error is in regards to missing the worksheet\n",
    "            print(sys.exc_info())\n",
    "            workbook.add_worksheet(col)\n",
    "            worksheet = workbook.worksheet_by_title(col)\n",
    "        worksheet.set_dataframe(counts_df, start='A1')\n",
    "    print(f'{len(columns)} sets of column values exported.')\n",
    "        \n",
    "def get_valid_names(workbook, columns, start='D1'):\n",
    "    \"\"\"extracts the valid names manually entered by the user in column D of the workbook\"\"\"\n",
    "    valid_names = {}\n",
    "    for col in columns:\n",
    "        worksheet = workbook.worksheet_by_title(col)\n",
    "        valid_matrix = worksheet.get_values(start='D1', end='D100')\n",
    "        valid_names[col] = [v[0] for v in valid_matrix]\n",
    "    return valid_names\n",
    "\n",
    "def fuzzy_match(value):\n",
    "    \"\"\"returns the best match for each column; fuzzy match score of < 90 will return 'Other'\"\"\"\n",
    "    match = process.extract(query=value, choices=valid_names[col], limit=1)\n",
    "    if match[0][1] < 90:\n",
    "        return 'Other'\n",
    "    else:\n",
    "        return match[0][0]"
   ]
  },
  {
   "cell_type": "code",
   "execution_count": 103,
   "metadata": {},
   "outputs": [
    {
     "name": "stdout",
     "output_type": "stream",
     "text": [
      "5 sets of column values exported.\n"
     ]
    }
   ],
   "source": [
    "#use pygsheets to connect to workbook where we will export unique column values\n",
    "client = pygsheets.authorize(service_account_file='/Users/linyu/Documents/Python/data/client_secret.json')\n",
    "workbook = client.open('311_data_cleaning')\n",
    "columns = ['agency_name','complaint_type','descriptor','location_type','city']\n",
    "\n",
    "#export unique column values and their counts\n",
    "export_col_values(workbook, newdf, columns)"
   ]
  },
  {
   "cell_type": "code",
   "execution_count": 19,
   "metadata": {},
   "outputs": [],
   "source": [
    "#test\n",
    "#COMMENT OUT THIS CELL IF DOING CATEGORY REVIEW\n",
    "#get dictionary of lists with valid names for each column\n",
    "valid_names = get_valid_names(workbook, columns, start='D1')\n",
    "\n",
    "#fuzzy match each of the columns to the available values\n",
    "for col in columns:\n",
    "    newdf['cleaned_'+col] = newdf[col].apply(fuzzy_match)"
   ]
  },
  {
   "cell_type": "code",
   "execution_count": 538,
   "metadata": {},
   "outputs": [
    {
     "name": "stdout",
     "output_type": "stream",
     "text": [
      "floats: 7.79 reduced to 3.89 MB\n"
     ]
    },
    {
     "ename": "KeyboardInterrupt",
     "evalue": "",
     "output_type": "error",
     "traceback": [
      "\u001b[0;31m---------------------------------------------------------------------------\u001b[0m",
      "\u001b[0;31mKeyboardInterrupt\u001b[0m                         Traceback (most recent call last)",
      "\u001b[0;32m<ipython-input-538-259a12d95e6e>\u001b[0m in \u001b[0;36m<module>\u001b[0;34m\u001b[0m\n\u001b[1;32m      1\u001b[0m \u001b[0;31m#preprocess dataset to remove mostly null columns and create date columns\u001b[0m\u001b[0;34m\u001b[0m\u001b[0;34m\u001b[0m\u001b[0;34m\u001b[0m\u001b[0m\n\u001b[1;32m      2\u001b[0m \u001b[0mprocessed_df\u001b[0m \u001b[0;34m=\u001b[0m \u001b[0mpreprocess_df\u001b[0m\u001b[0;34m(\u001b[0m\u001b[0mnewdf\u001b[0m\u001b[0;34m)\u001b[0m\u001b[0;34m\u001b[0m\u001b[0;34m\u001b[0m\u001b[0m\n\u001b[0;32m----> 3\u001b[0;31m \u001b[0mnyc_311_calls\u001b[0m \u001b[0;34m=\u001b[0m \u001b[0mreduce_memory\u001b[0m\u001b[0;34m(\u001b[0m\u001b[0mprocessed_df\u001b[0m\u001b[0;34m)\u001b[0m\u001b[0;34m\u001b[0m\u001b[0;34m\u001b[0m\u001b[0m\n\u001b[0m\u001b[1;32m      4\u001b[0m \u001b[0;31m#clean_processed = reduce_memory(processed_df)\u001b[0m\u001b[0;34m\u001b[0m\u001b[0;34m\u001b[0m\u001b[0;34m\u001b[0m\u001b[0m\n",
      "\u001b[0;32m<ipython-input-9-34fc7cd004d3>\u001b[0m in \u001b[0;36mreduce_memory\u001b[0;34m(df)\u001b[0m\n\u001b[1;32m     18\u001b[0m     \u001b[0;31m#convert ints\u001b[0m\u001b[0;34m\u001b[0m\u001b[0;34m\u001b[0m\u001b[0;34m\u001b[0m\u001b[0m\n\u001b[1;32m     19\u001b[0m     \u001b[0mselected_int\u001b[0m \u001b[0;34m=\u001b[0m \u001b[0mdf\u001b[0m\u001b[0;34m.\u001b[0m\u001b[0mselect_dtypes\u001b[0m\u001b[0;34m(\u001b[0m\u001b[0minclude\u001b[0m\u001b[0;34m=\u001b[0m\u001b[0;34m'integer'\u001b[0m\u001b[0;34m)\u001b[0m\u001b[0;34m\u001b[0m\u001b[0;34m\u001b[0m\u001b[0m\n\u001b[0;32m---> 20\u001b[0;31m     \u001b[0mconverted_int\u001b[0m \u001b[0;34m=\u001b[0m \u001b[0mselected_int\u001b[0m\u001b[0;34m.\u001b[0m\u001b[0mapply\u001b[0m\u001b[0;34m(\u001b[0m\u001b[0mpd\u001b[0m\u001b[0;34m.\u001b[0m\u001b[0mto_numeric\u001b[0m\u001b[0;34m,\u001b[0m \u001b[0mdowncast\u001b[0m\u001b[0;34m=\u001b[0m\u001b[0;34m'integer'\u001b[0m\u001b[0;34m)\u001b[0m\u001b[0;34m\u001b[0m\u001b[0;34m\u001b[0m\u001b[0m\n\u001b[0m\u001b[1;32m     21\u001b[0m     \u001b[0mint_size\u001b[0m \u001b[0;34m=\u001b[0m \u001b[0mselected_int\u001b[0m\u001b[0;34m.\u001b[0m\u001b[0mmemory_usage\u001b[0m\u001b[0;34m(\u001b[0m\u001b[0;34m)\u001b[0m\u001b[0;34m.\u001b[0m\u001b[0msum\u001b[0m\u001b[0;34m(\u001b[0m\u001b[0;34m)\u001b[0m\u001b[0;34m/\u001b[0m\u001b[0;36m1024\u001b[0m\u001b[0;34m**\u001b[0m\u001b[0;36m2\u001b[0m\u001b[0;34m\u001b[0m\u001b[0;34m\u001b[0m\u001b[0m\n\u001b[1;32m     22\u001b[0m     \u001b[0mconverted_int_size\u001b[0m \u001b[0;34m=\u001b[0m \u001b[0mconverted_int\u001b[0m\u001b[0;34m.\u001b[0m\u001b[0mmemory_usage\u001b[0m\u001b[0;34m(\u001b[0m\u001b[0;34m)\u001b[0m\u001b[0;34m.\u001b[0m\u001b[0msum\u001b[0m\u001b[0;34m(\u001b[0m\u001b[0;34m)\u001b[0m\u001b[0;34m/\u001b[0m\u001b[0;36m1024\u001b[0m\u001b[0;34m**\u001b[0m\u001b[0;36m2\u001b[0m\u001b[0;34m\u001b[0m\u001b[0;34m\u001b[0m\u001b[0m\n",
      "\u001b[0;32m/opt/anaconda3/lib/python3.7/site-packages/pandas/core/frame.py\u001b[0m in \u001b[0;36mapply\u001b[0;34m(self, func, axis, broadcast, raw, reduce, result_type, args, **kwds)\u001b[0m\n\u001b[1;32m   6911\u001b[0m             \u001b[0mkwds\u001b[0m\u001b[0;34m=\u001b[0m\u001b[0mkwds\u001b[0m\u001b[0;34m,\u001b[0m\u001b[0;34m\u001b[0m\u001b[0;34m\u001b[0m\u001b[0m\n\u001b[1;32m   6912\u001b[0m         )\n\u001b[0;32m-> 6913\u001b[0;31m         \u001b[0;32mreturn\u001b[0m \u001b[0mop\u001b[0m\u001b[0;34m.\u001b[0m\u001b[0mget_result\u001b[0m\u001b[0;34m(\u001b[0m\u001b[0;34m)\u001b[0m\u001b[0;34m\u001b[0m\u001b[0;34m\u001b[0m\u001b[0m\n\u001b[0m\u001b[1;32m   6914\u001b[0m \u001b[0;34m\u001b[0m\u001b[0m\n\u001b[1;32m   6915\u001b[0m     \u001b[0;32mdef\u001b[0m \u001b[0mapplymap\u001b[0m\u001b[0;34m(\u001b[0m\u001b[0mself\u001b[0m\u001b[0;34m,\u001b[0m \u001b[0mfunc\u001b[0m\u001b[0;34m)\u001b[0m\u001b[0;34m:\u001b[0m\u001b[0;34m\u001b[0m\u001b[0;34m\u001b[0m\u001b[0m\n",
      "\u001b[0;32m/opt/anaconda3/lib/python3.7/site-packages/pandas/core/apply.py\u001b[0m in \u001b[0;36mget_result\u001b[0;34m(self)\u001b[0m\n\u001b[1;32m    184\u001b[0m             \u001b[0;32mreturn\u001b[0m \u001b[0mself\u001b[0m\u001b[0;34m.\u001b[0m\u001b[0mapply_raw\u001b[0m\u001b[0;34m(\u001b[0m\u001b[0;34m)\u001b[0m\u001b[0;34m\u001b[0m\u001b[0;34m\u001b[0m\u001b[0m\n\u001b[1;32m    185\u001b[0m \u001b[0;34m\u001b[0m\u001b[0m\n\u001b[0;32m--> 186\u001b[0;31m         \u001b[0;32mreturn\u001b[0m \u001b[0mself\u001b[0m\u001b[0;34m.\u001b[0m\u001b[0mapply_standard\u001b[0m\u001b[0;34m(\u001b[0m\u001b[0;34m)\u001b[0m\u001b[0;34m\u001b[0m\u001b[0;34m\u001b[0m\u001b[0m\n\u001b[0m\u001b[1;32m    187\u001b[0m \u001b[0;34m\u001b[0m\u001b[0m\n\u001b[1;32m    188\u001b[0m     \u001b[0;32mdef\u001b[0m \u001b[0mapply_empty_result\u001b[0m\u001b[0;34m(\u001b[0m\u001b[0mself\u001b[0m\u001b[0;34m)\u001b[0m\u001b[0;34m:\u001b[0m\u001b[0;34m\u001b[0m\u001b[0;34m\u001b[0m\u001b[0m\n",
      "\u001b[0;32m/opt/anaconda3/lib/python3.7/site-packages/pandas/core/apply.py\u001b[0m in \u001b[0;36mapply_standard\u001b[0;34m(self)\u001b[0m\n\u001b[1;32m    275\u001b[0m             \u001b[0;32mfrom\u001b[0m \u001b[0mpandas\u001b[0m \u001b[0;32mimport\u001b[0m \u001b[0mSeries\u001b[0m\u001b[0;34m\u001b[0m\u001b[0;34m\u001b[0m\u001b[0m\n\u001b[1;32m    276\u001b[0m \u001b[0;34m\u001b[0m\u001b[0m\n\u001b[0;32m--> 277\u001b[0;31m             \u001b[0mvalues\u001b[0m \u001b[0;34m=\u001b[0m \u001b[0mself\u001b[0m\u001b[0;34m.\u001b[0m\u001b[0mvalues\u001b[0m\u001b[0;34m\u001b[0m\u001b[0;34m\u001b[0m\u001b[0m\n\u001b[0m\u001b[1;32m    278\u001b[0m             \u001b[0mindex\u001b[0m \u001b[0;34m=\u001b[0m \u001b[0mself\u001b[0m\u001b[0;34m.\u001b[0m\u001b[0mobj\u001b[0m\u001b[0;34m.\u001b[0m\u001b[0m_get_axis\u001b[0m\u001b[0;34m(\u001b[0m\u001b[0mself\u001b[0m\u001b[0;34m.\u001b[0m\u001b[0maxis\u001b[0m\u001b[0;34m)\u001b[0m\u001b[0;34m\u001b[0m\u001b[0;34m\u001b[0m\u001b[0m\n\u001b[1;32m    279\u001b[0m             \u001b[0mlabels\u001b[0m \u001b[0;34m=\u001b[0m \u001b[0mself\u001b[0m\u001b[0;34m.\u001b[0m\u001b[0magg_axis\u001b[0m\u001b[0;34m\u001b[0m\u001b[0;34m\u001b[0m\u001b[0m\n",
      "\u001b[0;32mpandas/_libs/properties.pyx\u001b[0m in \u001b[0;36mpandas._libs.properties.CachedProperty.__get__\u001b[0;34m()\u001b[0m\n",
      "\u001b[0;32m/opt/anaconda3/lib/python3.7/site-packages/pandas/core/apply.py\u001b[0m in \u001b[0;36mvalues\u001b[0;34m(self)\u001b[0m\n\u001b[1;32m    132\u001b[0m     \u001b[0;34m@\u001b[0m\u001b[0mcache_readonly\u001b[0m\u001b[0;34m\u001b[0m\u001b[0;34m\u001b[0m\u001b[0m\n\u001b[1;32m    133\u001b[0m     \u001b[0;32mdef\u001b[0m \u001b[0mvalues\u001b[0m\u001b[0;34m(\u001b[0m\u001b[0mself\u001b[0m\u001b[0;34m)\u001b[0m\u001b[0;34m:\u001b[0m\u001b[0;34m\u001b[0m\u001b[0;34m\u001b[0m\u001b[0m\n\u001b[0;32m--> 134\u001b[0;31m         \u001b[0;32mreturn\u001b[0m \u001b[0mself\u001b[0m\u001b[0;34m.\u001b[0m\u001b[0mobj\u001b[0m\u001b[0;34m.\u001b[0m\u001b[0mvalues\u001b[0m\u001b[0;34m\u001b[0m\u001b[0;34m\u001b[0m\u001b[0m\n\u001b[0m\u001b[1;32m    135\u001b[0m \u001b[0;34m\u001b[0m\u001b[0m\n\u001b[1;32m    136\u001b[0m     \u001b[0;34m@\u001b[0m\u001b[0mcache_readonly\u001b[0m\u001b[0;34m\u001b[0m\u001b[0;34m\u001b[0m\u001b[0m\n",
      "\u001b[0;32m/opt/anaconda3/lib/python3.7/site-packages/pandas/core/generic.py\u001b[0m in \u001b[0;36mvalues\u001b[0;34m(self)\u001b[0m\n\u001b[1;32m   5441\u001b[0m         \"\"\"\n\u001b[1;32m   5442\u001b[0m         \u001b[0mself\u001b[0m\u001b[0;34m.\u001b[0m\u001b[0m_consolidate_inplace\u001b[0m\u001b[0;34m(\u001b[0m\u001b[0;34m)\u001b[0m\u001b[0;34m\u001b[0m\u001b[0;34m\u001b[0m\u001b[0m\n\u001b[0;32m-> 5443\u001b[0;31m         \u001b[0;32mreturn\u001b[0m \u001b[0mself\u001b[0m\u001b[0;34m.\u001b[0m\u001b[0m_data\u001b[0m\u001b[0;34m.\u001b[0m\u001b[0mas_array\u001b[0m\u001b[0;34m(\u001b[0m\u001b[0mtranspose\u001b[0m\u001b[0;34m=\u001b[0m\u001b[0mself\u001b[0m\u001b[0;34m.\u001b[0m\u001b[0m_AXIS_REVERSED\u001b[0m\u001b[0;34m)\u001b[0m\u001b[0;34m\u001b[0m\u001b[0;34m\u001b[0m\u001b[0m\n\u001b[0m\u001b[1;32m   5444\u001b[0m \u001b[0;34m\u001b[0m\u001b[0m\n\u001b[1;32m   5445\u001b[0m     \u001b[0;34m@\u001b[0m\u001b[0mproperty\u001b[0m\u001b[0;34m\u001b[0m\u001b[0;34m\u001b[0m\u001b[0m\n",
      "\u001b[0;32m/opt/anaconda3/lib/python3.7/site-packages/pandas/core/internals/managers.py\u001b[0m in \u001b[0;36mas_array\u001b[0;34m(self, transpose, items)\u001b[0m\n\u001b[1;32m    820\u001b[0m             \u001b[0marr\u001b[0m \u001b[0;34m=\u001b[0m \u001b[0mnp\u001b[0m\u001b[0;34m.\u001b[0m\u001b[0masarray\u001b[0m\u001b[0;34m(\u001b[0m\u001b[0mmgr\u001b[0m\u001b[0;34m.\u001b[0m\u001b[0mblocks\u001b[0m\u001b[0;34m[\u001b[0m\u001b[0;36m0\u001b[0m\u001b[0;34m]\u001b[0m\u001b[0;34m.\u001b[0m\u001b[0mget_values\u001b[0m\u001b[0;34m(\u001b[0m\u001b[0;34m)\u001b[0m\u001b[0;34m)\u001b[0m\u001b[0;34m\u001b[0m\u001b[0;34m\u001b[0m\u001b[0m\n\u001b[1;32m    821\u001b[0m         \u001b[0;32melse\u001b[0m\u001b[0;34m:\u001b[0m\u001b[0;34m\u001b[0m\u001b[0;34m\u001b[0m\u001b[0m\n\u001b[0;32m--> 822\u001b[0;31m             \u001b[0marr\u001b[0m \u001b[0;34m=\u001b[0m \u001b[0mmgr\u001b[0m\u001b[0;34m.\u001b[0m\u001b[0m_interleave\u001b[0m\u001b[0;34m(\u001b[0m\u001b[0;34m)\u001b[0m\u001b[0;34m\u001b[0m\u001b[0;34m\u001b[0m\u001b[0m\n\u001b[0m\u001b[1;32m    823\u001b[0m \u001b[0;34m\u001b[0m\u001b[0m\n\u001b[1;32m    824\u001b[0m         \u001b[0;32mreturn\u001b[0m \u001b[0marr\u001b[0m\u001b[0;34m.\u001b[0m\u001b[0mtranspose\u001b[0m\u001b[0;34m(\u001b[0m\u001b[0;34m)\u001b[0m \u001b[0;32mif\u001b[0m \u001b[0mtranspose\u001b[0m \u001b[0;32melse\u001b[0m \u001b[0marr\u001b[0m\u001b[0;34m\u001b[0m\u001b[0;34m\u001b[0m\u001b[0m\n",
      "\u001b[0;32m/opt/anaconda3/lib/python3.7/site-packages/pandas/core/internals/managers.py\u001b[0m in \u001b[0;36m_interleave\u001b[0;34m(self)\u001b[0m\n\u001b[1;32m    844\u001b[0m         \u001b[0;32mfor\u001b[0m \u001b[0mblk\u001b[0m \u001b[0;32min\u001b[0m \u001b[0mself\u001b[0m\u001b[0;34m.\u001b[0m\u001b[0mblocks\u001b[0m\u001b[0;34m:\u001b[0m\u001b[0;34m\u001b[0m\u001b[0;34m\u001b[0m\u001b[0m\n\u001b[1;32m    845\u001b[0m             \u001b[0mrl\u001b[0m \u001b[0;34m=\u001b[0m \u001b[0mblk\u001b[0m\u001b[0;34m.\u001b[0m\u001b[0mmgr_locs\u001b[0m\u001b[0;34m\u001b[0m\u001b[0;34m\u001b[0m\u001b[0m\n\u001b[0;32m--> 846\u001b[0;31m             \u001b[0mresult\u001b[0m\u001b[0;34m[\u001b[0m\u001b[0mrl\u001b[0m\u001b[0;34m.\u001b[0m\u001b[0mindexer\u001b[0m\u001b[0;34m]\u001b[0m \u001b[0;34m=\u001b[0m \u001b[0mblk\u001b[0m\u001b[0;34m.\u001b[0m\u001b[0mget_values\u001b[0m\u001b[0;34m(\u001b[0m\u001b[0mdtype\u001b[0m\u001b[0;34m)\u001b[0m\u001b[0;34m\u001b[0m\u001b[0;34m\u001b[0m\u001b[0m\n\u001b[0m\u001b[1;32m    847\u001b[0m             \u001b[0mitemmask\u001b[0m\u001b[0;34m[\u001b[0m\u001b[0mrl\u001b[0m\u001b[0;34m.\u001b[0m\u001b[0mindexer\u001b[0m\u001b[0;34m]\u001b[0m \u001b[0;34m=\u001b[0m \u001b[0;36m1\u001b[0m\u001b[0;34m\u001b[0m\u001b[0;34m\u001b[0m\u001b[0m\n\u001b[1;32m    848\u001b[0m \u001b[0;34m\u001b[0m\u001b[0m\n",
      "\u001b[0;32m/opt/anaconda3/lib/python3.7/site-packages/pandas/core/internals/blocks.py\u001b[0m in \u001b[0;36mget_values\u001b[0;34m(self, dtype)\u001b[0m\n\u001b[1;32m   2191\u001b[0m         \u001b[0;32mif\u001b[0m \u001b[0mis_object_dtype\u001b[0m\u001b[0;34m(\u001b[0m\u001b[0mdtype\u001b[0m\u001b[0;34m)\u001b[0m\u001b[0;34m:\u001b[0m\u001b[0;34m\u001b[0m\u001b[0;34m\u001b[0m\u001b[0m\n\u001b[1;32m   2192\u001b[0m             \u001b[0mvalues\u001b[0m \u001b[0;34m=\u001b[0m \u001b[0mself\u001b[0m\u001b[0;34m.\u001b[0m\u001b[0mvalues\u001b[0m\u001b[0;34m.\u001b[0m\u001b[0mravel\u001b[0m\u001b[0;34m(\u001b[0m\u001b[0;34m)\u001b[0m\u001b[0;34m\u001b[0m\u001b[0;34m\u001b[0m\u001b[0m\n\u001b[0;32m-> 2193\u001b[0;31m             \u001b[0mresult\u001b[0m \u001b[0;34m=\u001b[0m \u001b[0mself\u001b[0m\u001b[0;34m.\u001b[0m\u001b[0m_holder\u001b[0m\u001b[0;34m(\u001b[0m\u001b[0mvalues\u001b[0m\u001b[0;34m)\u001b[0m\u001b[0;34m.\u001b[0m\u001b[0mastype\u001b[0m\u001b[0;34m(\u001b[0m\u001b[0mobject\u001b[0m\u001b[0;34m)\u001b[0m\u001b[0;34m\u001b[0m\u001b[0;34m\u001b[0m\u001b[0m\n\u001b[0m\u001b[1;32m   2194\u001b[0m             \u001b[0;32mreturn\u001b[0m \u001b[0mresult\u001b[0m\u001b[0;34m.\u001b[0m\u001b[0mreshape\u001b[0m\u001b[0;34m(\u001b[0m\u001b[0mself\u001b[0m\u001b[0;34m.\u001b[0m\u001b[0mvalues\u001b[0m\u001b[0;34m.\u001b[0m\u001b[0mshape\u001b[0m\u001b[0;34m)\u001b[0m\u001b[0;34m\u001b[0m\u001b[0;34m\u001b[0m\u001b[0m\n\u001b[1;32m   2195\u001b[0m         \u001b[0;32mreturn\u001b[0m \u001b[0mself\u001b[0m\u001b[0;34m.\u001b[0m\u001b[0mvalues\u001b[0m\u001b[0;34m\u001b[0m\u001b[0;34m\u001b[0m\u001b[0m\n",
      "\u001b[0;32m/opt/anaconda3/lib/python3.7/site-packages/pandas/core/arrays/timedeltas.py\u001b[0m in \u001b[0;36mastype\u001b[0;34m(self, dtype, copy)\u001b[0m\n\u001b[1;32m    384\u001b[0m                 \u001b[0;32mreturn\u001b[0m \u001b[0mself\u001b[0m\u001b[0;34m.\u001b[0m\u001b[0mcopy\u001b[0m\u001b[0;34m(\u001b[0m\u001b[0;34m)\u001b[0m\u001b[0;34m\u001b[0m\u001b[0;34m\u001b[0m\u001b[0m\n\u001b[1;32m    385\u001b[0m             \u001b[0;32mreturn\u001b[0m \u001b[0mself\u001b[0m\u001b[0;34m\u001b[0m\u001b[0;34m\u001b[0m\u001b[0m\n\u001b[0;32m--> 386\u001b[0;31m         \u001b[0;32mreturn\u001b[0m \u001b[0mdtl\u001b[0m\u001b[0;34m.\u001b[0m\u001b[0mDatetimeLikeArrayMixin\u001b[0m\u001b[0;34m.\u001b[0m\u001b[0mastype\u001b[0m\u001b[0;34m(\u001b[0m\u001b[0mself\u001b[0m\u001b[0;34m,\u001b[0m \u001b[0mdtype\u001b[0m\u001b[0;34m,\u001b[0m \u001b[0mcopy\u001b[0m\u001b[0;34m=\u001b[0m\u001b[0mcopy\u001b[0m\u001b[0;34m)\u001b[0m\u001b[0;34m\u001b[0m\u001b[0;34m\u001b[0m\u001b[0m\n\u001b[0m\u001b[1;32m    387\u001b[0m \u001b[0;34m\u001b[0m\u001b[0m\n\u001b[1;32m    388\u001b[0m     \u001b[0;31m# ----------------------------------------------------------------\u001b[0m\u001b[0;34m\u001b[0m\u001b[0;34m\u001b[0m\u001b[0;34m\u001b[0m\u001b[0m\n",
      "\u001b[0;32m/opt/anaconda3/lib/python3.7/site-packages/pandas/core/arrays/datetimelike.py\u001b[0m in \u001b[0;36mastype\u001b[0;34m(self, dtype, copy)\u001b[0m\n\u001b[1;32m    524\u001b[0m \u001b[0;34m\u001b[0m\u001b[0m\n\u001b[1;32m    525\u001b[0m         \u001b[0;32mif\u001b[0m \u001b[0mis_object_dtype\u001b[0m\u001b[0;34m(\u001b[0m\u001b[0mdtype\u001b[0m\u001b[0;34m)\u001b[0m\u001b[0;34m:\u001b[0m\u001b[0;34m\u001b[0m\u001b[0;34m\u001b[0m\u001b[0m\n\u001b[0;32m--> 526\u001b[0;31m             \u001b[0;32mreturn\u001b[0m \u001b[0mself\u001b[0m\u001b[0;34m.\u001b[0m\u001b[0m_box_values\u001b[0m\u001b[0;34m(\u001b[0m\u001b[0mself\u001b[0m\u001b[0;34m.\u001b[0m\u001b[0masi8\u001b[0m\u001b[0;34m)\u001b[0m\u001b[0;34m\u001b[0m\u001b[0;34m\u001b[0m\u001b[0m\n\u001b[0m\u001b[1;32m    527\u001b[0m         \u001b[0;32melif\u001b[0m \u001b[0mis_string_dtype\u001b[0m\u001b[0;34m(\u001b[0m\u001b[0mdtype\u001b[0m\u001b[0;34m)\u001b[0m \u001b[0;32mand\u001b[0m \u001b[0;32mnot\u001b[0m \u001b[0mis_categorical_dtype\u001b[0m\u001b[0;34m(\u001b[0m\u001b[0mdtype\u001b[0m\u001b[0;34m)\u001b[0m\u001b[0;34m:\u001b[0m\u001b[0;34m\u001b[0m\u001b[0;34m\u001b[0m\u001b[0m\n\u001b[1;32m    528\u001b[0m             \u001b[0;32mreturn\u001b[0m \u001b[0mself\u001b[0m\u001b[0;34m.\u001b[0m\u001b[0m_format_native_types\u001b[0m\u001b[0;34m(\u001b[0m\u001b[0;34m)\u001b[0m\u001b[0;34m\u001b[0m\u001b[0;34m\u001b[0m\u001b[0m\n",
      "\u001b[0;32m/opt/anaconda3/lib/python3.7/site-packages/pandas/core/arrays/datetimelike.py\u001b[0m in \u001b[0;36m_box_values\u001b[0;34m(self, values)\u001b[0m\n\u001b[1;32m    348\u001b[0m         \u001b[0mapply\u001b[0m \u001b[0mbox\u001b[0m \u001b[0mfunc\u001b[0m \u001b[0mto\u001b[0m \u001b[0mpassed\u001b[0m \u001b[0mvalues\u001b[0m\u001b[0;34m\u001b[0m\u001b[0;34m\u001b[0m\u001b[0m\n\u001b[1;32m    349\u001b[0m         \"\"\"\n\u001b[0;32m--> 350\u001b[0;31m         \u001b[0;32mreturn\u001b[0m \u001b[0mlib\u001b[0m\u001b[0;34m.\u001b[0m\u001b[0mmap_infer\u001b[0m\u001b[0;34m(\u001b[0m\u001b[0mvalues\u001b[0m\u001b[0;34m,\u001b[0m \u001b[0mself\u001b[0m\u001b[0;34m.\u001b[0m\u001b[0m_box_func\u001b[0m\u001b[0;34m)\u001b[0m\u001b[0;34m\u001b[0m\u001b[0;34m\u001b[0m\u001b[0m\n\u001b[0m\u001b[1;32m    351\u001b[0m \u001b[0;34m\u001b[0m\u001b[0m\n\u001b[1;32m    352\u001b[0m     \u001b[0;32mdef\u001b[0m \u001b[0m__iter__\u001b[0m\u001b[0;34m(\u001b[0m\u001b[0mself\u001b[0m\u001b[0;34m)\u001b[0m\u001b[0;34m:\u001b[0m\u001b[0;34m\u001b[0m\u001b[0;34m\u001b[0m\u001b[0m\n",
      "\u001b[0;32mpandas/_libs/lib.pyx\u001b[0m in \u001b[0;36mpandas._libs.lib.map_infer\u001b[0;34m()\u001b[0m\n",
      "\u001b[0;32m/opt/anaconda3/lib/python3.7/site-packages/pandas/core/arrays/timedeltas.py\u001b[0m in \u001b[0;36m<lambda>\u001b[0;34m(x)\u001b[0m\n\u001b[1;32m    179\u001b[0m     \u001b[0;34m@\u001b[0m\u001b[0mproperty\u001b[0m\u001b[0;34m\u001b[0m\u001b[0;34m\u001b[0m\u001b[0m\n\u001b[1;32m    180\u001b[0m     \u001b[0;32mdef\u001b[0m \u001b[0m_box_func\u001b[0m\u001b[0;34m(\u001b[0m\u001b[0mself\u001b[0m\u001b[0;34m)\u001b[0m\u001b[0;34m:\u001b[0m\u001b[0;34m\u001b[0m\u001b[0;34m\u001b[0m\u001b[0m\n\u001b[0;32m--> 181\u001b[0;31m         \u001b[0;32mreturn\u001b[0m \u001b[0;32mlambda\u001b[0m \u001b[0mx\u001b[0m\u001b[0;34m:\u001b[0m \u001b[0mTimedelta\u001b[0m\u001b[0;34m(\u001b[0m\u001b[0mx\u001b[0m\u001b[0;34m,\u001b[0m \u001b[0munit\u001b[0m\u001b[0;34m=\u001b[0m\u001b[0;34m\"ns\"\u001b[0m\u001b[0;34m)\u001b[0m\u001b[0;34m\u001b[0m\u001b[0;34m\u001b[0m\u001b[0m\n\u001b[0m\u001b[1;32m    182\u001b[0m \u001b[0;34m\u001b[0m\u001b[0m\n\u001b[1;32m    183\u001b[0m     \u001b[0;34m@\u001b[0m\u001b[0mproperty\u001b[0m\u001b[0;34m\u001b[0m\u001b[0;34m\u001b[0m\u001b[0m\n",
      "\u001b[0;31mKeyboardInterrupt\u001b[0m: "
     ]
    }
   ],
   "source": [
    "#preprocess dataset to remove mostly null columns and create date columns\n",
    "processed_df = preprocess_df(newdf)\n",
    "#nyc_311_calls = reduce_memory(processed_df)\n",
    "clean_processed = reduce_memory(processed_df)"
   ]
  },
  {
   "cell_type": "markdown",
   "metadata": {},
   "source": [
    "## Bokeh Visualizations\n",
    "- function to create bar graphs\n",
    "- function to create tables\n",
    "- function to create heatmaps\n",
    "- function to create geo map\n",
    "- function to create call outs\n",
    "- add visualizations and sliders to dashboard"
   ]
  },
  {
   "cell_type": "markdown",
   "metadata": {},
   "source": [
    "### Bar Graph"
   ]
  },
  {
   "cell_type": "code",
   "execution_count": 523,
   "metadata": {},
   "outputs": [],
   "source": [
    "class BokehBarGraph:\n",
    "    def __init__(self, category, value, num_categories=9):\n",
    "        self.category = category\n",
    "        self.value = value\n",
    "        self.num_categories = num_categories\n",
    "        self.dataset = self.make_dataset()\n",
    "        \n",
    "    def make_dataset(self):\n",
    "        category = self.category\n",
    "        value = self.value\n",
    "        num_categories = self.num_categories\n",
    "        grouped_df = pd.DataFrame(clean_processed.groupby(category)[value].sum()).reset_index()[0:num_categories]\n",
    "        grouped_df[category] = grouped_df[category].astype(str)\n",
    "        grouped_df = grouped_df.sort_values(value, ascending=True)\n",
    "        try:\n",
    "            grouped_df['color'] = palettes.brewer['YlGnBu'][num_categories]\n",
    "        except KeyError:\n",
    "            print('Too many categories selected; select up to 9 categories to display.')\n",
    "        return grouped_df\n",
    "    \n",
    "    def make_plot(self):\n",
    "        category = self.category\n",
    "        value = self.value\n",
    "        dataset = self.dataset\n",
    "        #output_file('bargraph.html')\n",
    "        source = ColumnDataSource(dataset)\n",
    "\n",
    "        bargraph = figure(y_range=dataset[category], plot_height = 300, plot_width=600, background_fill_color=\"#000000\",\n",
    "                   x_axis_label=value, y_axis_label=category)\n",
    "        bargraph.grid.visible=False\n",
    "        \n",
    "#         color_map = factor_cmap(field_name=category, palette = Spectral6, \n",
    "#                                 factors=value_count[category].unique())\n",
    "        bargraph.hbar(y=category,right=value,source=source, height=.8, color='color', hover_color='white')\n",
    "        category_value = f'@{category}'\n",
    "        value_value = f'@{value}'\n",
    "        hover = HoverTool(tooltips=[(category,category_value),(value, value_value)])\n",
    "        bargraph.add_tools(hover)\n",
    "        return bargraph\n",
    "        #show(p1)"
   ]
  },
  {
   "cell_type": "markdown",
   "metadata": {},
   "source": [
    "### Heatmap"
   ]
  },
  {
   "cell_type": "code",
   "execution_count": 524,
   "metadata": {},
   "outputs": [],
   "source": [
    "class BokehHeatmap:\n",
    "    def __init__(self, x, y, value, exclude=None):\n",
    "        self.x = x\n",
    "        self.y = y\n",
    "        self.value = value\n",
    "        self.exclude = exclude\n",
    "        self.pivot = self.make_dataset()[0]\n",
    "        self.df_pivot = self.make_dataset()[1]\n",
    "        \n",
    "    def make_dataset(self):\n",
    "        value = self.value\n",
    "        x=self.x\n",
    "        y=self.y\n",
    "        exclude = self.exclude\n",
    "        pivot = clean_processed.pivot_table(values=value,index=x,columns=y,aggfunc='sum')\n",
    "        if exclude:\n",
    "            try:\n",
    "                pivot = pivot.drop(exclude, axis=0)\n",
    "                print(f'{exclude} dropped from x-axis.')\n",
    "            except KeyError:\n",
    "                pivot = pivot.drop(exclude, axis=1)\n",
    "                print(f'{exclude} dropped from y-axis.')\n",
    "            except:\n",
    "                print('Exclusion does not exist in index or columns.')\n",
    "        pivot.columns = pivot.columns.astype(str)\n",
    "        pivot.index = pivot.index.astype(str)\n",
    "        list(pivot.index)\n",
    "        df_pivot = pd.DataFrame(pivot.stack(), columns=[value]).reset_index()\n",
    "        return pivot, df_pivot\n",
    "\n",
    "    def make_plot(self, title=None, x_ticks=None, y_ticks=None):\n",
    "        #reset_output()\n",
    "        #output_notebook()\n",
    "        df_pivot = self.df_pivot\n",
    "        pivot = self.pivot\n",
    "        x = self.x\n",
    "        y = self.y\n",
    "        value = self.value \n",
    "        source = ColumnDataSource(df_pivot)\n",
    "        \n",
    "        if title:\n",
    "            graph_title = title\n",
    "        else:\n",
    "            graph_title= f'{value} by {x} and {y}'\n",
    "        \n",
    "        if x_ticks:\n",
    "            x_range = x_ticks\n",
    "        else:\n",
    "            x_range = list(pivot.index)\n",
    "            \n",
    "        if y_ticks:\n",
    "            y_range = y_ticks\n",
    "        else:\n",
    "            y_range = list((pivot.columns))\n",
    "\n",
    "        colors = [\"#75968f\", \"#a5bab7\", \"#c9d9d3\", \"#e2e2e2\", \"#dfccce\", \"#ddb7b1\", \"#cc7878\", \"#933b41\", \"#550b1d\"]\n",
    "        mapper = LinearColorMapper(palette=colors, low=df_pivot[value].min(), high=df_pivot[value].max())\n",
    "\n",
    "        p = figure(plot_width=900, plot_height=500, title=graph_title,\n",
    "                   x_range=x_range, y_range=y_range,\n",
    "                   toolbar_location=None, x_axis_location=\"below\")\n",
    "\n",
    "        p.rect(x=x, y=y, width=1, height=1, source=source, line_color='white', fill_color=transform(value, mapper))\n",
    "        color_bar = ColorBar(color_mapper=mapper, location=(0, 0),\n",
    "                             ticker=BasicTicker(desired_num_ticks=len(colors)))\n",
    "        p.add_layout(color_bar, 'right')\n",
    "        \n",
    "        value_value = f'@{value}'\n",
    "        x_value = f'@{x}'\n",
    "        y_value = f'@{y}'\n",
    "\n",
    "        hover = HoverTool(tooltips=[(x, x_value),(y, y_value), (value, value_value)])\n",
    "        p.add_tools(hover)\n",
    "        p.grid.visible=False\n",
    "\n",
    "        p.axis.axis_line_color = None\n",
    "        p.axis.major_tick_line_color = None\n",
    "        p.axis.major_label_text_font_size = \"11px\"\n",
    "        p.axis.major_label_standoff = 0\n",
    "        p.xaxis.major_label_orientation = 1.0\n",
    "        return p"
   ]
  },
  {
   "cell_type": "markdown",
   "metadata": {},
   "source": [
    "### Geo Map"
   ]
  },
  {
   "cell_type": "code",
   "execution_count": 528,
   "metadata": {},
   "outputs": [],
   "source": [
    "class BokehGeoMap():\n",
    "    def __init__(self, color='salmon', display_number=5000):\n",
    "        self.color = color\n",
    "        self.display_number = display_number\n",
    "        self.dataset = self.make_dataset()\n",
    "        \n",
    "    def make_dataset(self):\n",
    "        clean_processed['round_lat'] = round(clean_processed['latitude'],3)\n",
    "        clean_processed['round_lon'] = round(clean_processed['longitude'],3)\n",
    "        latlon_df = pd.DataFrame(clean_processed.groupby(['round_lat', 'round_lon'])['count'].sum()).reset_index()\n",
    "        latlon_df.sort_values('count', ascending=False)\n",
    "        latlon_df['scaled'] = (latlon_df['count']/latlon_df['count'].max()*50)\n",
    "        latlon_sorted = latlon_df.sort_values('scaled',ascending=False)\n",
    "        return latlon_sorted\n",
    "    \n",
    "    def make_plot(self):\n",
    "        #output_file('maps.html')\n",
    "        color = self.color\n",
    "        display_number = self.display_number\n",
    "        dataset = self.dataset\n",
    "        sample_df = dataset[:display_number]\n",
    "        \n",
    "        latitudes = sample_df['round_lat']\n",
    "        longitudes = sample_df['round_lon']\n",
    "        sizes = sample_df['scaled']\n",
    "\n",
    "        with open('/Users/christinejiang/Documents/Python/data/client_secret.json') as f:\n",
    "            data = json.load(f)\n",
    "        api_key = data[\"google_api_key\"]\n",
    "\n",
    "        map_options = GMapOptions(lat=40.76, lng=-73.95, map_type=\"roadmap\", zoom=11)\n",
    "        call_map = gmap(api_key, map_options, title=\"NYC 311 Calls\")\n",
    "        source = ColumnDataSource(data=dict(lat=latitudes,lon=longitudes, sizes = sizes))\n",
    "        call_map.circle(x=\"lon\", y=\"lat\", size='sizes', fill_color=color, fill_alpha=0.7, line_color=color, source=source)\n",
    "        return call_map"
   ]
  },
  {
   "cell_type": "markdown",
   "metadata": {},
   "source": [
    "### Geomap with slider"
   ]
  },
  {
   "cell_type": "code",
   "execution_count": 649,
   "metadata": {},
   "outputs": [],
   "source": [
    "#make_dataset() format specific data to be displayed\n",
    "#make_plot() draw plot with specified data\n",
    "#update() update plot based on user selections\n",
    "\n",
    "def geomap_tab(nyc_311_calls):\n",
    "    #function to make dataset for geomap based on number of points to display\n",
    "    #make_dataset function has the params that can be used to change the underlying data\n",
    "    #params: neighborhood, number of points\n",
    "    def make_dataset(boroughs, display_num=5000):\n",
    "        borough_filter = nyc_311_calls[nyc_311_calls['borough'].isin(boroughs)]\n",
    "        borough_filter['lat_round'] = round(borough_filter['latitude'],3)\n",
    "        borough_filter['lon_round'] = round(borough_filter['longitude'],3)\n",
    "        latlon_df = pd.DataFrame(borough_filter.groupby(['lat_round', 'lon_round'])['count'].sum()).reset_index()\n",
    "        latlon_df['sizes'] = latlon_df['count']/latlon_df['count'].max()*50\n",
    "        latlon_sorted = latlon_df.sort_values('sizes', ascending=False)\n",
    "        latlon_display = latlon_sorted[:display_num]\n",
    "        return ColumnDataSource(latlon_display)\n",
    "    \n",
    "    def make_plot(src):\n",
    "        #function to generate the plot given a ColumnDataSource with specific parameters\n",
    "        output_file('geomap_with_slider.html')\n",
    "        with open('/Users/christinejiang/Documents/Python/data/client_secret.json') as f:\n",
    "            data = json.load(f)\n",
    "        api_key = data['google_api_key']\n",
    "        map_options = GMapOptions(lat=40.76, lng=-73.95, map_type='roadmap', zoom=11)\n",
    "        call_map = gmap(api_key, map_options, title='NYC 311 Calls')\n",
    "        call_map.circle(x='lon_round', y='lat_round', size='sizes', source=src, fill_alpha = 0.7, \n",
    "                        fill_color='salmon', line_color='red')\n",
    "        return call_map\n",
    "    \n",
    "    def update(attr, old, new):\n",
    "        #function to update the underlying dataset given any change in interface widgets (checkbox, slider)\n",
    "        boroughs_to_plot = [borough_selection.labels[i] for i in borough_selection.active]\n",
    "        new_src = make_dataset(boroughs_to_plot, display_num=5000)\n",
    "        src.data.update(new_src.data)\n",
    "        \n",
    "    available_boroughs = list(set(nyc_311_calls['borough']))\n",
    "    available_boroughs.sort()\n",
    "    \n",
    "    borough_selection = CheckboxGroup(labels=available_boroughs, active=[0,1,2,3,4])\n",
    "    borough_selection.on_change('active', update)\n",
    "    \n",
    "    initial_boroughs = [borough_selection.labels[i] for i in borough_selection.active]\n",
    "    \n",
    "    src = make_dataset(initial_boroughs, display_num=5000)\n",
    "    p = make_plot(src)\n",
    "    controls = WidgetBox(borough_selection)\n",
    "    layout = row(controls, p)\n",
    "    tab = Panel(child=layout, title='Geomap')\n",
    "    tabs = Tabs(tabs=[tab])\n",
    "    return tabs"
   ]
  },
  {
   "cell_type": "code",
   "execution_count": 650,
   "metadata": {},
   "outputs": [
    {
     "name": "stderr",
     "output_type": "stream",
     "text": [
      "/opt/anaconda3/lib/python3.7/site-packages/ipykernel_launcher.py:10: SettingWithCopyWarning: \n",
      "A value is trying to be set on a copy of a slice from a DataFrame.\n",
      "Try using .loc[row_indexer,col_indexer] = value instead\n",
      "\n",
      "See the caveats in the documentation: http://pandas.pydata.org/pandas-docs/stable/user_guide/indexing.html#returning-a-view-versus-a-copy\n",
      "  # Remove the CWD from sys.path while we load stuff.\n",
      "/opt/anaconda3/lib/python3.7/site-packages/ipykernel_launcher.py:11: SettingWithCopyWarning: \n",
      "A value is trying to be set on a copy of a slice from a DataFrame.\n",
      "Try using .loc[row_indexer,col_indexer] = value instead\n",
      "\n",
      "See the caveats in the documentation: http://pandas.pydata.org/pandas-docs/stable/user_guide/indexing.html#returning-a-view-versus-a-copy\n",
      "  # This is added back by InteractiveShellApp.init_path()\n",
      "WARNING:bokeh.embed.util:\n",
      "You are generating standalone HTML/JS output, but trying to use real Python\n",
      "callbacks (i.e. with on_change or on_event). This combination cannot work.\n",
      "\n",
      "Only JavaScript callbacks may be used with standalone output. For more\n",
      "information on JavaScript callbacks with Bokeh, see:\n",
      "\n",
      "    http://bokeh.pydata.org/en/latest/docs/user_guide/interaction/callbacks.html\n",
      "\n",
      "Alternatively, to use real Python callbacks, a Bokeh server application may\n",
      "be used. For more information on building and running Bokeh applications, see:\n",
      "\n",
      "    http://bokeh.pydata.org/en/latest/docs/user_guide/server.html\n",
      "\n"
     ]
    }
   ],
   "source": [
    "test = geomap_tab(nyc_311_calls = nyc_311_calls)\n",
    "show(test)"
   ]
  },
  {
   "cell_type": "code",
   "execution_count": 620,
   "metadata": {},
   "outputs": [
    {
     "data": {
      "text/plain": [
       "['BRONX', 'BROOKLYN', 'MANHATTAN', 'QUEENS']"
      ]
     },
     "execution_count": 620,
     "metadata": {},
     "output_type": "execute_result"
    }
   ],
   "source": [
    "available_boroughs = list(set(nyc_311_calls['borough']))\n",
    "available_boroughs.sort()\n",
    "borough_s\n",
    "gmapoptelection = CheckboxGroup(labels=available_boroughs, active=[0,1,2,3])\n",
    "[borough_selection.labels[i] for i in borough_selection.active]"
   ]
  },
  {
   "cell_type": "code",
   "execution_count": 630,
   "metadata": {},
   "outputs": [],
   "source": [
    "def my_text_input_handler(attr, old, new):\n",
    "    print(\"Previous label: \" + old)\n",
    "    print(\"Updated label: \" + new)\n",
    "\n",
    "text_input = TextInput(value=\"default\", title=\"Label:\")\n",
    "text_input.on_change(\"value\", my_text_input_handler)"
   ]
  },
  {
   "cell_type": "code",
   "execution_count": 627,
   "metadata": {},
   "outputs": [
    {
     "name": "stderr",
     "output_type": "stream",
     "text": [
      "/opt/anaconda3/lib/python3.7/site-packages/ipykernel_launcher.py:4: SettingWithCopyWarning: \n",
      "A value is trying to be set on a copy of a slice from a DataFrame.\n",
      "Try using .loc[row_indexer,col_indexer] = value instead\n",
      "\n",
      "See the caveats in the documentation: http://pandas.pydata.org/pandas-docs/stable/user_guide/indexing.html#returning-a-view-versus-a-copy\n",
      "  after removing the cwd from sys.path.\n",
      "/opt/anaconda3/lib/python3.7/site-packages/ipykernel_launcher.py:5: SettingWithCopyWarning: \n",
      "A value is trying to be set on a copy of a slice from a DataFrame.\n",
      "Try using .loc[row_indexer,col_indexer] = value instead\n",
      "\n",
      "See the caveats in the documentation: http://pandas.pydata.org/pandas-docs/stable/user_guide/indexing.html#returning-a-view-versus-a-copy\n",
      "  \"\"\"\n"
     ]
    },
    {
     "data": {
      "text/plain": [
       "1000"
      ]
     },
     "execution_count": 627,
     "metadata": {},
     "output_type": "execute_result"
    }
   ],
   "source": [
    "def make_dataset(boroughs, display_num=2000):\n",
    "    borough_filter = nyc_311_calls[nyc_311_calls['city'].isin(boroughs)]\n",
    "    #return borough_filter\n",
    "    borough_filter['lat_round'] = round(borough_filter['latitude'],3)\n",
    "    borough_filter['lon_round'] = round(borough_filter['longitude'],3)\n",
    "    latlon_df = pd.DataFrame(borough_filter.groupby(['lat_round', 'lon_round'])['count'].sum()).reset_index()\n",
    "    latlon_df['sizes'] = latlon_df['count']/latlon_df['count'].max()*50\n",
    "    latlon_sorted = latlon_df.sort_values('sizes', ascending=False)\n",
    "    latlon_display = latlon_sorted[:display_num]\n",
    "    return (ColumnDataSource(latlon_display))\n",
    "\n",
    "test = make_dataset(available_boroughs)\n",
    "len(test.data['index'])\n",
    "\n",
    "test2 = make_dataset(available_boroughs, 1000)\n",
    "len(test2.data['index'])\n",
    "\n",
    "test.data.update(test2.data)\n",
    "len(test.data['index'])"
   ]
  },
  {
   "cell_type": "code",
   "execution_count": 482,
   "metadata": {},
   "outputs": [],
   "source": [
    "clean_processed['cleaned_descriptor'] = clean_processed['cleaned_descriptor'].astype(str)\n",
    "clean_processed['created_mdy'] = clean_processed['created_mdy'].astype(str)\n",
    "pivot = clean_processed.pivot_table(values='count', index='created_mdy', columns='cleaned_descriptor', aggfunc=sum).reset_index()\n",
    "source = ColumnDataSource(pivot)\n",
    "\n",
    "reset_output()\n",
    "linegraph = figure(x_range=pivot['created_mdy'])\n",
    "for col in pivot.columns:\n",
    "    linegraph.line(x='created_mdy', y = col, source=source, color='red', legend='test')\n",
    "factor_cmap(field_name='test', palette='Viridis256', factors=pivot.columns)\n",
    "\n",
    "hover = HoverTool(tooltips=[(\"Date\",\"@created_mdy\"),(\"Ceiling\",\"@Ceiling\")])\n",
    "linegraph.add_tools(hover)\n",
    "show(linegraph)"
   ]
  },
  {
   "cell_type": "code",
   "execution_count": 496,
   "metadata": {},
   "outputs": [
    {
     "data": {
      "text/plain": [
       "{'field': 'test', 'transform': CategoricalColorMapper(id='26895', ...)}"
      ]
     },
     "execution_count": 496,
     "metadata": {},
     "output_type": "execute_result"
    }
   ],
   "source": [
    "test = factor_cmap(field_name='test', palette='Viridis256', factors=pivot.columns)\n",
    "test"
   ]
  },
  {
   "cell_type": "code",
   "execution_count": 530,
   "metadata": {},
   "outputs": [],
   "source": [
    "from bokeh.models.widgets import Panel, Tabs\n",
    "\n",
    "#create graphs of each kind, format into dashboard\n",
    "complaint_count = BokehBarGraph(category='cleaned_descriptor', value='count').make_plot()\n",
    "month_hour = BokehHeatmap(x='created_week', y='created_hour', value='count').make_plot()\n",
    "geomap = BokehGeoMap().make_plot()\n",
    "rowdash = row(complaint_count, month_hour)\n",
    "#show(column(rowdash, month_hour, geomap))\n",
    "\n",
    "output_file('tab_test.html')\n",
    "tab1 = Panel(child=complaint_count, title='Complaint Count')\n",
    "tab2 = Panel(child=month_hour, title='Month Hour')\n",
    "tab3 = Panel(child=geomap, title='Geomap')\n",
    "\n",
    "tabs = Tabs(tabs=[tab1, tab2, tab3], background='white')\n",
    "\n",
    "show(tabs)"
   ]
  },
  {
   "cell_type": "code",
   "execution_count": 516,
   "metadata": {},
   "outputs": [],
   "source": [
    "output_file('checkbox.html')\n",
    "checkbox_button_group = CheckboxGroup(labels=['1','2','3'], active=[0,1, 2])\n",
    "show(checkbox_button_group)"
   ]
  },
  {
   "cell_type": "code",
   "execution_count": null,
   "metadata": {},
   "outputs": [],
   "source": []
  }
 ],
 "metadata": {
  "kernelspec": {
   "display_name": "Python 3",
   "language": "python",
   "name": "python3"
  },
  "language_info": {
   "codemirror_mode": {
    "name": "ipython",
    "version": 3
   },
   "file_extension": ".py",
   "mimetype": "text/x-python",
   "name": "python",
   "nbconvert_exporter": "python",
   "pygments_lexer": "ipython3",
   "version": "3.7.6"
  }
 },
 "nbformat": 4,
 "nbformat_minor": 2
}
