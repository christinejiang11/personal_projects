{
 "cells": [
  {
   "cell_type": "code",
   "execution_count": 1,
   "metadata": {},
   "outputs": [],
   "source": [
    "#ideas for importing data:\n",
    "#1. get data in batches: export to a list, export list to a csv, import csv for each new run - do data preprocessing\n",
    "#2. get data in batches, process each batch, export to a csv, import csv with specified datatypes\n",
    "#3. how big is a \"big\" dataset? whats the general limit for what i can export to work with on my computer?\n",
    "#4. multithreading vs. multiprocessing?\n",
    "#5. export data to a database? SQLalchemy\n",
    "#6. work directly in colab, then download and export to github?"
   ]
  },
  {
   "cell_type": "markdown",
   "metadata": {},
   "source": [
    "## Import dataset, reduce memory"
   ]
  },
  {
   "cell_type": "code",
   "execution_count": 2,
   "metadata": {},
   "outputs": [],
   "source": [
    "#options:\n",
    "#1. download locally, wait for however long it takes, large = when it stops fitting in ram\n",
    "#mem = temp working space, fast to access but can't store much, might be erased; disk = long term storage\n",
    "#goal = get something done quickly\n",
    "#embarrassingly parallel problems: processes don't need to talk to each other \n",
    "\n",
    "#2. BQ: data stays in google servers, might have to pay eventually, if you need to do a lot of processing / really large datasets\n",
    "#take the processed results \n",
    "#use api to query from BQ\n",
    "\n",
    "#3. spark cluster on AWS\n",
    "\n",
    "#keep raw data - quickly recover\n",
    "\n",
    "#python stores each num as an obj; each obj has overhead involved (methods, value, ref count)\n",
    "#numpy stores all of these values as one obj"
   ]
  },
  {
   "cell_type": "code",
   "execution_count": 3,
   "metadata": {},
   "outputs": [
    {
     "name": "stderr",
     "output_type": "stream",
     "text": [
      "/Users/christinejiang/opt/anaconda3/lib/python3.7/site-packages/fuzzywuzzy/fuzz.py:11: UserWarning: Using slow pure-python SequenceMatcher. Install python-Levenshtein to remove this warning\n",
      "  warnings.warn('Using slow pure-python SequenceMatcher. Install python-Levenshtein to remove this warning')\n"
     ]
    }
   ],
   "source": [
    "import pandas as pd\n",
    "import numpy as np\n",
    "import requests\n",
    "#python client for Socrata open data API\n",
    "from sodapy import Socrata\n",
    "import os\n",
    "import seaborn as sns\n",
    "from matplotlib import pyplot as plt\n",
    "import sys\n",
    "from fuzzywuzzy import process\n",
    "from fuzzywuzzy import fuzz\n",
    "import pygsheets\n",
    "\n",
    "os.getcwd()\n",
    "pd.options.display.max_columns=50"
   ]
  },
  {
   "cell_type": "code",
   "execution_count": 4,
   "metadata": {},
   "outputs": [
    {
     "data": {
      "text/plain": [
       "[{'count': '3082555'}]"
      ]
     },
     "execution_count": 4,
     "metadata": {},
     "output_type": "execute_result"
    }
   ],
   "source": [
    "#define parameters for endpoint, dataset, and app token\n",
    "data_url = 'data.cityofnewyork.us'\n",
    "dataset = 'erm2-nwe9'\n",
    "app_token = 'dM7DDeidbAmgtydtJVV1epbiU'\n",
    "\n",
    "#sets up the connection, need application token to override throttling limits\n",
    "#username and password only required for creating or modifying data\n",
    "client = Socrata(data_url, app_token)\n",
    "client.timeout = 6000\n",
    "\n",
    "#count number of records in desired dataset\n",
    "record_count = client.get(dataset, select='count(*)', where=\"created_date >='2019-01-01'\")\n",
    "record_count"
   ]
  },
  {
   "cell_type": "code",
   "execution_count": 8,
   "metadata": {},
   "outputs": [
    {
     "name": "stdout",
     "output_type": "stream",
     "text": [
      "0\n",
      "100000\n",
      "200000\n",
      "300000\n",
      "400000\n",
      "500000\n"
     ]
    }
   ],
   "source": [
    "def get_data(chunk_size=100000, total_rows=500000):\n",
    "    start = 0\n",
    "    results=[]\n",
    "\n",
    "    #paginate through dataset in sets of 10000 to get all records since 2019\n",
    "    while True:\n",
    "        print(start)\n",
    "        results.extend(client.get(dataset,where=\"created_date >= '2019-01-01'\", \n",
    "                                  limit=chunk_size, offset=start))\n",
    "        start += chunk_size\n",
    "        if start > total_rows:\n",
    "            break\n",
    "    return results\n",
    "\n",
    "orig_results = get_data()\n",
    "orig_df = pd.DataFrame(orig_results)\n",
    "orig_df.to_csv('/Users/christinejiang/Documents/Python/data/311_data.csv', index=False)"
   ]
  },
  {
   "cell_type": "code",
   "execution_count": 9,
   "metadata": {},
   "outputs": [],
   "source": [
    "def get_mem_usage(df):\n",
    "    dtypes = df.dtypes.astype(str).unique()\n",
    "    total_mem = df.memory_usage().sum()/1024**2\n",
    "    for dtype in dtypes:\n",
    "        selected_dtype = df.select_dtypes(include=dtype)\n",
    "        mean_usage_b = selected_dtype.memory_usage().mean()\n",
    "        mean_usage_mb = mean_usage_b / 1024**2\n",
    "        print('avg memory usage for {} columns: {:03.2f} MB'.format(dtype, mean_usage_mb))\n",
    "    print(f'total memory usage: {total_mem:.2f}')\n",
    "    \n",
    "def new_memory_reduction(df):\n",
    "    \"\"\"improved version of memory reduction function. uses pd.to_numeric to downcast types;\n",
    "    also considers whether there are few enough unique values to warrant use of category vs. object.\"\"\"\n",
    "    orig_size = df.memory_usage().sum()/1024**2\n",
    "    dtypes = df.dtypes.astype(str).unique()\n",
    "    converted_float = pd.DataFrame()\n",
    "    converted_int = pd.DataFrame()\n",
    "    converted_obj = pd.DataFrame()\n",
    "    for dtype in dtypes:\n",
    "        if 'float' in dtype:\n",
    "            selected_float = df.select_dtypes(include='float')\n",
    "            converted_float = selected_float.apply(pd.to_numeric, downcast='float')\n",
    "            float_size = selected_float.memory_usage().sum()/1024**2\n",
    "            converted_float_size = converted_float.memory_usage().sum()/1024**2\n",
    "            print(f'floats: {float_size:.2f} reduced to {converted_float_size:.2f} MB')\n",
    "        if 'int' in dtype:\n",
    "            selected_int = df.select_dtypes(include='integer')\n",
    "            converted_int = selected_int.apply(pd.to_numeric, downcast='integer')\n",
    "            int_size = selected_int.memory_usage().sum()/1024**2\n",
    "            converted_int_size = converted_int.memory_usage().sum()/1024**2\n",
    "            print(f'ints: {int_size:.2f} reduced to {converted_int_size:.2f} MB')\n",
    "        if 'object' in dtype:\n",
    "            selected_object = df.select_dtypes(include='object')\n",
    "            obj_size = selected_object.memory_usage().sum()/1024**2\n",
    "            for col in selected_object.columns:\n",
    "                count = len(selected_object[col])\n",
    "                unique = len(selected_object[col].astype(str).unique())\n",
    "                if unique < count/2:\n",
    "                    converted_obj[col] = selected_object[col].astype(str).astype('category')\n",
    "                else:\n",
    "                    converted_obj[col] = selected_object[col].astype(str)\n",
    "            converted_obj_size = converted_obj.memory_usage().sum()/1024**2\n",
    "            print(f'object: {obj_size:.2f} reduced to {converted_obj_size:.2f} MB')\n",
    "\n",
    "    float_int = converted_float.join(converted_int)\n",
    "    reduced_df = float_int.join(converted_obj)\n",
    "    reduced_df = reduced_df[df.columns]\n",
    "    reduced_size = reduced_df.memory_usage().sum()/1024**2\n",
    "    print(f'final df: {orig_size:.2f} reduced to {reduced_size:.2f} MB, {(orig_size-reduced_size)/orig_size*100:.1f}% reduction')\n",
    "    return reduced_df"
   ]
  },
  {
   "cell_type": "code",
   "execution_count": 10,
   "metadata": {},
   "outputs": [
    {
     "name": "stderr",
     "output_type": "stream",
     "text": [
      "/Users/christinejiang/opt/anaconda3/lib/python3.7/site-packages/IPython/core/interactiveshell.py:3058: DtypeWarning: Columns (8,39,40) have mixed types. Specify dtype option on import or set low_memory=False.\n",
      "  interactivity=interactivity, compiler=compiler, result=result)\n"
     ]
    },
    {
     "name": "stdout",
     "output_type": "stream",
     "text": [
      "ints: 4.58 reduced to 2.29 MB\n",
      "object: 160.22 reduced to 96.35 MB\n",
      "floats: 22.89 reduced to 11.44 MB\n",
      "final df: 187.68 reduced to 110.08 MB, 41.3% reduction\n"
     ]
    }
   ],
   "source": [
    "#olddf - most dtypes are objects, some are ints and some are floats\n",
    "#BUT olddf datatypes get changed inplace after running reduce_mem_usage! becomes mostly categorical\n",
    "olddf = pd.read_csv('/Users/christinejiang/Documents/Python/data/311_data.csv')\n",
    "\n",
    "#newdf - most dtypes are categorical, some ints and floats\n",
    "newdf = new_memory_reduction(olddf)"
   ]
  },
  {
   "cell_type": "code",
   "execution_count": 24,
   "metadata": {},
   "outputs": [
    {
     "data": {
      "text/plain": [
       "<matplotlib.axes._subplots.AxesSubplot at 0x1259707d0>"
      ]
     },
     "execution_count": 24,
     "metadata": {},
     "output_type": "execute_result"
    },
    {
     "data": {
      "image/png": "[encoded data removed]",
      "text/plain": [
       "<Figure size 1080x288 with 2 Axes>"
      ]
     },
     "metadata": {
      "needs_background": "light"
     },
     "output_type": "display_data"
    }
   ],
   "source": [
    "plt.rc('figure',figsize=(15,4))\n",
    "sns.heatmap(newdf.isnull())"
   ]
  },
  {
   "cell_type": "markdown",
   "metadata": {},
   "source": [
    "## Data Processing"
   ]
  },
  {
   "cell_type": "code",
   "execution_count": 12,
   "metadata": {},
   "outputs": [],
   "source": [
    "def preprocess_df(df):\n",
    "    '''drop columns that are mostly blank, create time-related columns from date columns'''\n",
    "    cleandf = df.drop(['intersection_street_1',\n",
    "               'intersection_street_2',\n",
    "               'taxi_company_borough',\n",
    "               'taxi_pick_up_location',\n",
    "               'bridge_highway_name',\n",
    "               'bridge_highway_direction',\n",
    "               'road_ramp',\n",
    "               'bridge_highway_segment',\n",
    "               'landmark',\n",
    "               'vehicle_type'], axis=1, inplace=False)\n",
    "\n",
    "    for col in cleandf.columns:\n",
    "        if 'date' in col:\n",
    "            cleandf[col] = pd.to_datetime(cleandf[col])\n",
    "            \n",
    "    cleandf['created_year'] = [x.year for x in cleandf['created_date']]\n",
    "    cleandf['created_month'] = [x.month for x in cleandf['created_date']]\n",
    "    cleandf['created_day'] = [x.day for x in cleandf['created_date']]\n",
    "    cleandf['created_hour'] = [x.hour for x in cleandf['created_date']]\n",
    "    cleandf['closed_hour'] = [x.hour for x in cleandf['closed_date']]\n",
    "    cleandf['time_to_close'] = cleandf['closed_date'] - cleandf['created_date']\n",
    "    return cleandf"
   ]
  },
  {
   "cell_type": "code",
   "execution_count": 13,
   "metadata": {},
   "outputs": [],
   "source": [
    "def export_col_values(workbook, df, columns):\n",
    "    \"\"\"for a list of columns, creates a new sheet for each column and exports unique values and their counts to that sheet\"\"\"\n",
    "    for col in columns:\n",
    "        value_counts = df[col].value_counts()\n",
    "        counts_df = pd.DataFrame(value_counts).reset_index()\n",
    "        try:\n",
    "            worksheet = workbook.worksheet_by_title(col)\n",
    "        except WorksheetNotFound:\n",
    "            workbook.add_worksheet(col)\n",
    "            worksheet = workbook.worksheet_by_title(col)\n",
    "        worksheet.set_dataframe(counts_df, start='A1')\n",
    "    print(f'{len(columns)} sets of column values exported.')\n",
    "        \n",
    "def get_valid_names(workbook, columns, start='D1'):\n",
    "    \"\"\"extracts the valid names manually entered by the user in column D of the workbook\"\"\"\n",
    "    valid_names = {}\n",
    "    for col in columns:\n",
    "        worksheet = workbook.worksheet_by_title(col)\n",
    "        valid_matrix = worksheet.get_values(start='D1', end='D100')\n",
    "        valid_names[col] = [v[0] for v in valid_matrix]\n",
    "    return valid_names\n",
    "\n",
    "def fuzzy_match(value):\n",
    "    \"\"\"returns the best match for each column; fuzzy match score of < 90 will return 'Other'\"\"\"\n",
    "    match = process.extract(query=value, choices=valid_names[col], limit=1)\n",
    "    if match[0][1] < 90:\n",
    "        return 'Other'\n",
    "    else:\n",
    "        return match[0][0]"
   ]
  },
  {
   "cell_type": "code",
   "execution_count": 14,
   "metadata": {},
   "outputs": [
    {
     "name": "stdout",
     "output_type": "stream",
     "text": [
      "5 sets of column values exported.\n"
     ]
    }
   ],
   "source": [
    "#use pygsheets to connect to workbook where we will export unique column values\n",
    "client = pygsheets.authorize(service_account_file='/Users/christinejiang/Documents/Python/data/client_secret.json')\n",
    "workbook = client.open('311_data_cleaning')\n",
    "columns = ['agency_name','complaint_type','descriptor','location_type','city']\n",
    "\n",
    "#export unique column values and their counts\n",
    "export_col_values(workbook, newdf, columns)\n",
    "#get dictionary of lists with valid names for each column\n",
    "valid_names = get_valid_names(workbook, columns, start='D1')\n",
    "\n",
    "#fuzzy match each of the columns to the available values\n",
    "for col in columns:\n",
    "    newdf['cleaned_'+col] = newdf[col].apply(fuzzy_match)\n",
    "    \n",
    "processed_df = preprocess_df(newdf)"
   ]
  },
  {
   "cell_type": "code",
   "execution_count": 16,
   "metadata": {},
   "outputs": [
    {
     "data": {
      "text/plain": [
       "nan            435683\n",
       "Precinct       141910\n",
       "DSNY Garage     22053\n",
       "School            354\n",
       "Name: facility_type, dtype: int64"
      ]
     },
     "execution_count": 16,
     "metadata": {},
     "output_type": "execute_result"
    }
   ],
   "source": [
    "processed_df['facility_type'].value_counts()"
   ]
  },
  {
   "cell_type": "code",
   "execution_count": null,
   "metadata": {},
   "outputs": [],
   "source": []
  }
 ],
 "metadata": {
  "kernelspec": {
   "display_name": "Python 3",
   "language": "python",
   "name": "python3"
  },
  "language_info": {
   "codemirror_mode": {
    "name": "ipython",
    "version": 3
   },
   "file_extension": ".py",
   "mimetype": "text/x-python",
   "name": "python",
   "nbconvert_exporter": "python",
   "pygments_lexer": "ipython3",
   "version": "3.7.4"
  }
 },
 "nbformat": 4,
 "nbformat_minor": 2
}
