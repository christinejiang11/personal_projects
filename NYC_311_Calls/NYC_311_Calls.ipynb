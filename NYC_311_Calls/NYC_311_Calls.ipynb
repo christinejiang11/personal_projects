{
 "cells": [
  {
   "cell_type": "code",
   "execution_count": 1,
   "metadata": {},
   "outputs": [],
   "source": [
    "#ideas for importing data:\n",
    "#1. get data in batches: export to a list, export list to a csv, import csv for each new run - do data preprocessing\n",
    "#2. get data in batches, process each batch, export to a csv, import csv with specified datatypes\n",
    "#3. how big is a \"big\" dataset? whats the general limit for what i can export to work with on my computer?\n",
    "#4. multithreading vs. multiprocessing?\n",
    "#5. export data to a database? SQLalchemy\n",
    "#6. work directly in colab, then download and export to github?\n",
    "\n",
    "#call with ori:\n",
    "#options:\n",
    "#1. download locally, wait for however long it takes, large = when it stops fitting in ram\n",
    "#mem = temp working space, fast to access but can't store much, might be erased; disk = long term storage\n",
    "#goal = get something done quickly\n",
    "#embarrassingly parallel problems: processes don't need to talk to each other \n",
    "\n",
    "#2. BQ: data stays in google servers, might have to pay eventually, if you need to do a lot of processing / really large datasets\n",
    "#take the processed results \n",
    "#use api to query from BQ\n",
    "\n",
    "#3. spark cluster on AWS\n",
    "\n",
    "#keep raw data - quickly recover\n",
    "\n",
    "#python stores each num as an obj; each obj has overhead involved (methods, value, ref count)\n",
    "#numpy stores all of these values as one obj"
   ]
  },
  {
   "cell_type": "markdown",
   "metadata": {},
   "source": [
    "## To Do:\n",
    "- multiprocessing or multithreading to get more data\n",
    "- save data to csv, use pandas to read in and indicate appropriate data types\n",
    "- data processing: add time, drop nulls\n",
    "- reduce memory\n",
    "- create cleaner categories; create function to indicate any new categories that need to be coded\n"
   ]
  },
  {
   "cell_type": "markdown",
   "metadata": {},
   "source": [
    "## Import dataset, reduce memory"
   ]
  },
  {
   "cell_type": "code",
   "execution_count": 2,
   "metadata": {},
   "outputs": [
    {
     "name": "stderr",
     "output_type": "stream",
     "text": [
      "/Users/christinejiang/opt/anaconda3/lib/python3.7/site-packages/fuzzywuzzy/fuzz.py:11: UserWarning: Using slow pure-python SequenceMatcher. Install python-Levenshtein to remove this warning\n",
      "  warnings.warn('Using slow pure-python SequenceMatcher. Install python-Levenshtein to remove this warning')\n"
     ]
    }
   ],
   "source": [
    "import pandas as pd\n",
    "import numpy as np\n",
    "import requests\n",
    "from sodapy import Socrata\n",
    "import os\n",
    "import seaborn as sns\n",
    "from matplotlib import pyplot as plt\n",
    "import sys\n",
    "from fuzzywuzzy import process\n",
    "from fuzzywuzzy import fuzz\n",
    "import pygsheets\n",
    "from bokeh.plotting import figure, output_file, output_notebook, show, save, reset_output\n",
    "from datetime import datetime, date, time \n",
    "\n",
    "os.getcwd()\n",
    "pd.options.display.max_columns=50"
   ]
  },
  {
   "cell_type": "code",
   "execution_count": 3,
   "metadata": {},
   "outputs": [
    {
     "data": {
      "text/plain": [
       "[{'count': '990318'}]"
      ]
     },
     "execution_count": 3,
     "metadata": {},
     "output_type": "execute_result"
    }
   ],
   "source": [
    "#define parameters for endpoint, dataset, and app token\n",
    "data_url = 'data.cityofnewyork.us'\n",
    "dataset = 'erm2-nwe9'\n",
    "app_token = 'dM7DDeidbAmgtydtJVV1epbiU'\n",
    "\n",
    "#sets up the connection, need application token to override throttling limits\n",
    "#username and password only required for creating or modifying data\n",
    "client = Socrata(data_url, app_token)\n",
    "client.timeout = 6000\n",
    "\n",
    "#count number of records in desired dataset\n",
    "record_count = client.get(dataset, select='count(*)', where=\"created_date >='2019-11-01'\")\n",
    "record_count"
   ]
  },
  {
   "cell_type": "code",
   "execution_count": 127,
   "metadata": {},
   "outputs": [
    {
     "name": "stdout",
     "output_type": "stream",
     "text": [
      "0 rows retrieved\n",
      "100000 rows retrieved\n",
      "200000 rows retrieved\n",
      "300000 rows retrieved\n",
      "400000 rows retrieved\n",
      "500000 rows retrieved\n",
      "600000 rows retrieved\n",
      "700000 rows retrieved\n",
      "800000 rows retrieved\n",
      "900000 rows retrieved\n",
      "1000000 rows retrieved\n"
     ]
    }
   ],
   "source": [
    "def get_data(chunk_size=500000, total_rows=1000000):\n",
    "    start = 0\n",
    "    results=[]\n",
    "\n",
    "    #paginate through dataset in sets of 10000 to get all records since 2019\n",
    "    while True:\n",
    "        print(f'{start} rows retrieved')\n",
    "        results.extend(client.get(dataset,where=\"created_date >= '2019-11-01'\", \n",
    "                                  limit=chunk_size, offset=start))\n",
    "        start += chunk_size\n",
    "        if start > total_rows:\n",
    "            break\n",
    "    return results\n",
    "\n",
    "orig_results = get_data()\n",
    "orig_df = pd.DataFrame(orig_results)\n",
    "orig_df.to_csv('/Users/christinejiang/Documents/Python/data/311_data.csv', index=False)"
   ]
  },
  {
   "cell_type": "code",
   "execution_count": 4,
   "metadata": {},
   "outputs": [],
   "source": [
    "def reduce_memory(df):\n",
    "    \"\"\"improved version of memory reduction function. uses pd.to_numeric to downcast types;\n",
    "    also considers whether there are few enough unique values to warrant use of category vs. object.\"\"\"\n",
    "    orig_size = df.memory_usage().sum()/1024**2\n",
    "    dtypes = df.dtypes.astype(str).unique()\n",
    "    converted_float = pd.DataFrame()\n",
    "    converted_int = pd.DataFrame()\n",
    "    converted_obj = pd.DataFrame()\n",
    "    converted_misc = pd.DataFrame()\n",
    "\n",
    "    #convert floats\n",
    "    selected_float = df.select_dtypes(include='float')\n",
    "    converted_float = selected_float.apply(pd.to_numeric, downcast='float')\n",
    "    float_size = selected_float.memory_usage().sum()/1024**2\n",
    "    converted_float_size = converted_float.memory_usage().sum()/1024**2\n",
    "    print(f'floats: {float_size:.2f} reduced to {converted_float_size:.2f} MB')\n",
    "\n",
    "    #convert ints\n",
    "    selected_int = df.select_dtypes(include='integer')\n",
    "    converted_int = selected_int.apply(pd.to_numeric, downcast='integer')\n",
    "    int_size = selected_int.memory_usage().sum()/1024**2\n",
    "    converted_int_size = converted_int.memory_usage().sum()/1024**2\n",
    "    print(f'ints: {int_size:.2f} reduced to {converted_int_size:.2f} MB')\n",
    "    \n",
    "    #convert objects / categories\n",
    "    selected_object = df.select_dtypes(include=['object', 'category'])\n",
    "    obj_size = selected_object.memory_usage().sum()/1024**2\n",
    "    for col in selected_object.columns:\n",
    "        count = len(selected_object[col])\n",
    "        unique = len(selected_object[col].astype(str).unique())\n",
    "        if unique < count/2:\n",
    "            converted_obj[col] = selected_object[col].astype(str).astype('category')\n",
    "        else:\n",
    "            converted_obj[col] = selected_object[col].astype(str)\n",
    "    converted_obj_size = converted_obj.memory_usage().sum()/1024**2\n",
    "    print(f'object: {obj_size:.2f} reduced to {converted_obj_size:.2f} MB')\n",
    "\n",
    "    #join floats, ints, and objects / categories\n",
    "    float_int = converted_float.join(converted_int)\n",
    "    float_int_obj = float_int.join(converted_obj)\n",
    "    \n",
    "    #for any columns of any other type, keep them the same and join to the converted dataframe\n",
    "    no_change_cols = [x for x in df.columns if x not in float_int_obj.columns]\n",
    "    reduced_df = float_int_obj.join(df[no_change_cols])\n",
    "    \n",
    "    #re-order columns to appear in original order\n",
    "    reduced_df = reduced_df[df.columns]\n",
    "    reduced_size = reduced_df.memory_usage().sum()/1024**2\n",
    "    print(f'final df: {orig_size:.2f} reduced to {reduced_size:.2f} MB, {(orig_size-reduced_size)/orig_size*100:.1f}% reduction')\n",
    "    return reduced_df"
   ]
  },
  {
   "cell_type": "code",
   "execution_count": 5,
   "metadata": {},
   "outputs": [
    {
     "name": "stderr",
     "output_type": "stream",
     "text": [
      "/Users/christinejiang/opt/anaconda3/lib/python3.7/site-packages/IPython/core/interactiveshell.py:3058: DtypeWarning: Columns (32,34,35,36,37,38,39,40) have mixed types. Specify dtype option on import or set low_memory=False.\n",
      "  interactivity=interactivity, compiler=compiler, result=result)\n"
     ]
    },
    {
     "name": "stdout",
     "output_type": "stream",
     "text": [
      "floats: 45.02 reduced to 22.51 MB\n",
      "ints: 7.50 reduced to 3.75 MB\n",
      "object: 255.13 reduced to 98.18 MB\n",
      "final df: 307.66 reduced to 124.45 MB, 59.5% reduction\n"
     ]
    }
   ],
   "source": [
    "#olddf - most dtypes are objects, some are ints and some are floats\n",
    "#BUT olddf datatypes get changed inplace after running reduce_mem_usage! becomes mostly categorical\n",
    "olddf = pd.read_csv('/Users/christinejiang/Documents/Python/data/311_data.csv')\n",
    "\n",
    "#newdf - most dtypes are categorical, some ints and floats\n",
    "newdf = reduce_memory(olddf)"
   ]
  },
  {
   "cell_type": "code",
   "execution_count": 6,
   "metadata": {},
   "outputs": [
    {
     "data": {
      "text/plain": [
       "<matplotlib.axes._subplots.AxesSubplot at 0x12271ef90>"
      ]
     },
     "metadata": {},
     "output_type": "display_data"
    },
    {
     "data": {
      "image/png": "[encoded data removed]",
      "text/plain": [
       "<Figure size 1080x288 with 2 Axes>"
      ]
     },
     "metadata": {
      "needs_background": "light"
     },
     "output_type": "display_data"
    }
   ],
   "source": [
    "#need to fix this - categorical blanks are not showing up as blanks\n",
    "plt.rc('figure',figsize=(15,4))\n",
    "#display(sns.heatmap(olddf.isnull()))\n",
    "display(sns.heatmap(newdf.isnull()))"
   ]
  },
  {
   "cell_type": "markdown",
   "metadata": {},
   "source": [
    "## Data Processing\n",
    "- need to create a function that will show the new, unmapped categories for each new imported dataset\n",
    "- need to indicate column types upon reading in with pandas, use the reduce memory function after preprocessing"
   ]
  },
  {
   "cell_type": "code",
   "execution_count": 7,
   "metadata": {},
   "outputs": [],
   "source": [
    "def preprocess_df(df):\n",
    "    '''drop columns that are mostly blank, create time-related columns from date columns'''\n",
    "    #drop mostly blank columns\n",
    "    cleandf = df.drop(['intersection_street_1',\n",
    "               'intersection_street_2',\n",
    "               'taxi_company_borough',\n",
    "               'taxi_pick_up_location',\n",
    "               'bridge_highway_name',\n",
    "               'bridge_highway_direction',\n",
    "               'road_ramp',\n",
    "               'bridge_highway_segment',\n",
    "               'landmark',\n",
    "               'vehicle_type'], axis=1, inplace=False)\n",
    "\n",
    "    #convert date related columns to datetime\n",
    "    for col in cleandf.columns:\n",
    "        if 'date' in col:\n",
    "            cleandf[col] = pd.to_datetime(cleandf[col])\n",
    "            \n",
    "    #created time-related columns from date columns\n",
    "    cleandf['created_mdy'] = [x.strftime('%Y-%m-%d') for x in cleandf['created_date']]\n",
    "    cleandf['created_year'] = [x.year for x in cleandf['created_date']]\n",
    "    cleandf['created_month'] = [x.strftime('%b') for x in cleandf['created_date']]\n",
    "    cleandf['created_day'] = [x.day for x in cleandf['created_date']]\n",
    "    cleandf['created_weekday'] = [x.strftime('%a') for x in processed_df['created_date']]\n",
    "    cleandf['created_week'] = [x.week for x in cleandf['created_date']]\n",
    "    cleandf['created_hour'] = [x.hour for x in cleandf['created_date']]\n",
    "    cleandf['closed_hour'] = [x.hour for x in cleandf['closed_date']]\n",
    "    cleandf['time_to_close'] = cleandf['closed_date'] - cleandf['created_date']\n",
    "    return cleandf"
   ]
  },
  {
   "cell_type": "code",
   "execution_count": 8,
   "metadata": {},
   "outputs": [],
   "source": [
    "def export_col_values(workbook, df, columns):\n",
    "    \"\"\"for a list of columns, creates a new sheet for each column and exports unique values and their counts to that sheet\"\"\"\n",
    "    for col in columns:\n",
    "        value_counts = df[col].value_counts()\n",
    "        counts_df = pd.DataFrame(value_counts).reset_index()\n",
    "        try:\n",
    "            worksheet = workbook.worksheet_by_title(col)\n",
    "        except WorksheetNotFound:\n",
    "            workbook.add_worksheet(col)\n",
    "            worksheet = workbook.worksheet_by_title(col)\n",
    "        worksheet.set_dataframe(counts_df, start='A1')\n",
    "    print(f'{len(columns)} sets of column values exported.')\n",
    "        \n",
    "def get_valid_names(workbook, columns, start='D1'):\n",
    "    \"\"\"extracts the valid names manually entered by the user in column D of the workbook\"\"\"\n",
    "    valid_names = {}\n",
    "    for col in columns:\n",
    "        worksheet = workbook.worksheet_by_title(col)\n",
    "        valid_matrix = worksheet.get_values(start='D1', end='D100')\n",
    "        valid_names[col] = [v[0] for v in valid_matrix]\n",
    "    return valid_names\n",
    "\n",
    "def fuzzy_match(value):\n",
    "    \"\"\"returns the best match for each column; fuzzy match score of < 90 will return 'Other'\"\"\"\n",
    "    match = process.extract(query=value, choices=valid_names[col], limit=1)\n",
    "    if match[0][1] < 90:\n",
    "        return 'Other'\n",
    "    else:\n",
    "        return match[0][0]"
   ]
  },
  {
   "cell_type": "code",
   "execution_count": 9,
   "metadata": {},
   "outputs": [
    {
     "name": "stdout",
     "output_type": "stream",
     "text": [
      "5 sets of column values exported.\n"
     ]
    }
   ],
   "source": [
    "#use pygsheets to connect to workbook where we will export unique column values\n",
    "client = pygsheets.authorize(service_account_file='/Users/christinejiang/Documents/Python/data/client_secret.json')\n",
    "workbook = client.open('311_data_cleaning')\n",
    "columns = ['agency_name','complaint_type','descriptor','location_type','city']\n",
    "\n",
    "#export unique column values and their counts\n",
    "export_col_values(workbook, newdf, columns)"
   ]
  },
  {
   "cell_type": "code",
   "execution_count": 10,
   "metadata": {},
   "outputs": [],
   "source": [
    "#COMMENT OUT THIS CELL IF DOING CATEGORY REVIEW\n",
    "#get dictionary of lists with valid names for each column\n",
    "valid_names = get_valid_names(workbook, columns, start='D1')\n",
    "\n",
    "#fuzzy match each of the columns to the available values\n",
    "for col in columns:\n",
    "    newdf['cleaned_'+col] = newdf[col].apply(fuzzy_match)"
   ]
  },
  {
   "cell_type": "code",
   "execution_count": 11,
   "metadata": {},
   "outputs": [
    {
     "ename": "NameError",
     "evalue": "name 'processed_df' is not defined",
     "output_type": "error",
     "traceback": [
      "\u001b[0;31m---------------------------------------------------------------------------\u001b[0m",
      "\u001b[0;31mNameError\u001b[0m                                 Traceback (most recent call last)",
      "\u001b[0;32m<ipython-input-11-8c78d49107bd>\u001b[0m in \u001b[0;36m<module>\u001b[0;34m\u001b[0m\n\u001b[1;32m      1\u001b[0m \u001b[0;31m#preprocess dataset to remove mostly null columns and create date columns\u001b[0m\u001b[0;34m\u001b[0m\u001b[0;34m\u001b[0m\u001b[0;34m\u001b[0m\u001b[0m\n\u001b[0;32m----> 2\u001b[0;31m \u001b[0mprocessed_df\u001b[0m \u001b[0;34m=\u001b[0m \u001b[0mpreprocess_df\u001b[0m\u001b[0;34m(\u001b[0m\u001b[0mnewdf\u001b[0m\u001b[0;34m)\u001b[0m\u001b[0;34m\u001b[0m\u001b[0;34m\u001b[0m\u001b[0m\n\u001b[0m\u001b[1;32m      3\u001b[0m \u001b[0mclean_processed\u001b[0m \u001b[0;34m=\u001b[0m \u001b[0mreduce_memory\u001b[0m\u001b[0;34m(\u001b[0m\u001b[0mprocessed_df\u001b[0m\u001b[0;34m)\u001b[0m\u001b[0;34m\u001b[0m\u001b[0;34m\u001b[0m\u001b[0m\n",
      "\u001b[0;32m<ipython-input-7-df25711f32f0>\u001b[0m in \u001b[0;36mpreprocess_df\u001b[0;34m(df)\u001b[0m\n\u001b[1;32m     23\u001b[0m     \u001b[0mcleandf\u001b[0m\u001b[0;34m[\u001b[0m\u001b[0;34m'created_month'\u001b[0m\u001b[0;34m]\u001b[0m \u001b[0;34m=\u001b[0m \u001b[0;34m[\u001b[0m\u001b[0mx\u001b[0m\u001b[0;34m.\u001b[0m\u001b[0mstrftime\u001b[0m\u001b[0;34m(\u001b[0m\u001b[0;34m'%b'\u001b[0m\u001b[0;34m)\u001b[0m \u001b[0;32mfor\u001b[0m \u001b[0mx\u001b[0m \u001b[0;32min\u001b[0m \u001b[0mcleandf\u001b[0m\u001b[0;34m[\u001b[0m\u001b[0;34m'created_date'\u001b[0m\u001b[0;34m]\u001b[0m\u001b[0;34m]\u001b[0m\u001b[0;34m\u001b[0m\u001b[0;34m\u001b[0m\u001b[0m\n\u001b[1;32m     24\u001b[0m     \u001b[0mcleandf\u001b[0m\u001b[0;34m[\u001b[0m\u001b[0;34m'created_day'\u001b[0m\u001b[0;34m]\u001b[0m \u001b[0;34m=\u001b[0m \u001b[0;34m[\u001b[0m\u001b[0mx\u001b[0m\u001b[0;34m.\u001b[0m\u001b[0mday\u001b[0m \u001b[0;32mfor\u001b[0m \u001b[0mx\u001b[0m \u001b[0;32min\u001b[0m \u001b[0mcleandf\u001b[0m\u001b[0;34m[\u001b[0m\u001b[0;34m'created_date'\u001b[0m\u001b[0;34m]\u001b[0m\u001b[0;34m]\u001b[0m\u001b[0;34m\u001b[0m\u001b[0;34m\u001b[0m\u001b[0m\n\u001b[0;32m---> 25\u001b[0;31m     \u001b[0mcleandf\u001b[0m\u001b[0;34m[\u001b[0m\u001b[0;34m'created_weekday'\u001b[0m\u001b[0;34m]\u001b[0m \u001b[0;34m=\u001b[0m \u001b[0;34m[\u001b[0m\u001b[0mx\u001b[0m\u001b[0;34m.\u001b[0m\u001b[0mstrftime\u001b[0m\u001b[0;34m(\u001b[0m\u001b[0;34m'%a'\u001b[0m\u001b[0;34m)\u001b[0m \u001b[0;32mfor\u001b[0m \u001b[0mx\u001b[0m \u001b[0;32min\u001b[0m \u001b[0mprocessed_df\u001b[0m\u001b[0;34m[\u001b[0m\u001b[0;34m'created_date'\u001b[0m\u001b[0;34m]\u001b[0m\u001b[0;34m]\u001b[0m\u001b[0;34m\u001b[0m\u001b[0;34m\u001b[0m\u001b[0m\n\u001b[0m\u001b[1;32m     26\u001b[0m     \u001b[0mcleandf\u001b[0m\u001b[0;34m[\u001b[0m\u001b[0;34m'created_week'\u001b[0m\u001b[0;34m]\u001b[0m \u001b[0;34m=\u001b[0m \u001b[0;34m[\u001b[0m\u001b[0mx\u001b[0m\u001b[0;34m.\u001b[0m\u001b[0mweek\u001b[0m \u001b[0;32mfor\u001b[0m \u001b[0mx\u001b[0m \u001b[0;32min\u001b[0m \u001b[0mcleandf\u001b[0m\u001b[0;34m[\u001b[0m\u001b[0;34m'created_date'\u001b[0m\u001b[0;34m]\u001b[0m\u001b[0;34m]\u001b[0m\u001b[0;34m\u001b[0m\u001b[0;34m\u001b[0m\u001b[0m\n\u001b[1;32m     27\u001b[0m     \u001b[0mcleandf\u001b[0m\u001b[0;34m[\u001b[0m\u001b[0;34m'created_hour'\u001b[0m\u001b[0;34m]\u001b[0m \u001b[0;34m=\u001b[0m \u001b[0;34m[\u001b[0m\u001b[0mx\u001b[0m\u001b[0;34m.\u001b[0m\u001b[0mhour\u001b[0m \u001b[0;32mfor\u001b[0m \u001b[0mx\u001b[0m \u001b[0;32min\u001b[0m \u001b[0mcleandf\u001b[0m\u001b[0;34m[\u001b[0m\u001b[0;34m'created_date'\u001b[0m\u001b[0;34m]\u001b[0m\u001b[0;34m]\u001b[0m\u001b[0;34m\u001b[0m\u001b[0;34m\u001b[0m\u001b[0m\n",
      "\u001b[0;31mNameError\u001b[0m: name 'processed_df' is not defined"
     ]
    }
   ],
   "source": [
    "#preprocess dataset to remove mostly null columns and create date columns\n",
    "processed_df = preprocess_df(newdf)\n",
    "clean_processed = reduce_memory(processed_df)"
   ]
  },
  {
   "cell_type": "markdown",
   "metadata": {},
   "source": [
    "## Bokeh Visualizations"
   ]
  },
  {
   "cell_type": "code",
   "execution_count": null,
   "metadata": {},
   "outputs": [],
   "source": [
    "reset_output()"
   ]
  },
  {
   "cell_type": "code",
   "execution_count": null,
   "metadata": {},
   "outputs": [],
   "source": [
    "from bokeh.plotting import figure, output_file, show, output_notebook\n",
    "\n",
    "x = [1,2,3,4,5]\n",
    "y = [6,7,2,4,5]\n",
    "\n",
    "output_notebook()\n",
    "p = figure(title='simple line example',x_axis_label='x',y_axis_label='y')\n",
    "p.line(x,y, legend='temp.', line_width=2)\n",
    "show(p)"
   ]
  },
  {
   "cell_type": "code",
   "execution_count": null,
   "metadata": {},
   "outputs": [],
   "source": [
    "x = [1,2,3,4,5]\n",
    "y0 = [i**2 for i in x]\n",
    "y1 = [10**i for i in x]\n",
    "y2 = [10**(i**2) for i in x]\n",
    "\n",
    "#output to static html file\n",
    "#output_file('log_lines.html')\n",
    "output_notebook()\n",
    "\n",
    "#create new plot\n",
    "p = figure(\n",
    "    tools = 'pan, box_zoom, reset, save',\n",
    "    y_axis_type = 'log', y_range=[0.001, 10**11], title='log axis example',\n",
    "    x_axis_label='sections', y_axis_label = 'particles'\n",
    ")\n",
    "\n",
    "#add some renderers\n",
    "p.line(x, x, legend='y=x')\n",
    "p.circle(x, x, legend='y=x', fill_color='white', size=8)\n",
    "p.line(x, y0, legend='y=x^2', color = 'red', line_width=3)\n",
    "p.line(x, y1, legend='y=10^x', line_color='orange')\n",
    "p.circle(x, y1, legend='y=10^x', fill_color='green', line_color='yellow', size=6)\n",
    "p.line(x, y2, legend='y=10^x^2', line_color='orange', line_dash = '4')\n",
    "show(p)"
   ]
  },
  {
   "cell_type": "code",
   "execution_count": null,
   "metadata": {},
   "outputs": [],
   "source": [
    "grouped = clean_processed.groupby(['cleaned_city','cleaned_descriptor'])['count'].sum()\n",
    "grouped_index = grouped.reset_index()\n",
    "grouped_index.sort_values('count',inplace=True, ascending=False)\n",
    "sns.barplot(x='cleaned_city',y='count',hue='cleaned_descriptor',data=grouped_index)"
   ]
  },
  {
   "cell_type": "code",
   "execution_count": null,
   "metadata": {},
   "outputs": [],
   "source": [
    "grouped_index.sort_values('count',ascending=False, inplace=True)\n",
    "grouped_index"
   ]
  },
  {
   "cell_type": "code",
   "execution_count": null,
   "metadata": {},
   "outputs": [],
   "source": [
    "sns.barplot(x=final_date['', y=final_date['unique_key'], hue=final_date['cleaned_descriptor'])\n",
    "axes = plt.gca()"
   ]
  },
  {
   "cell_type": "code",
   "execution_count": null,
   "metadata": {},
   "outputs": [],
   "source": [
    "clean_processed['count'] = 1\n",
    "pivot = clean_processed.pivot_table(values='count',index='cleaned_descriptor',columns=['created_month'],aggfunc='sum')\n",
    "pivot= pivot[['Nov','Dec','Jan','Feb','Mar','Apr','May']]\n",
    "pivot.drop('Other', inplace=True)\n",
    "pivot.sort_values('Nov',ascending=False, inplace=True)"
   ]
  },
  {
   "cell_type": "code",
   "execution_count": null,
   "metadata": {},
   "outputs": [],
   "source": [
    "plt.rc('figure',figsize=(15,15))\n",
    "sns.heatmap(pivot, annot=True, fmt='.0f', cmap='mako_r', square=True)"
   ]
  },
  {
   "cell_type": "code",
   "execution_count": null,
   "metadata": {},
   "outputs": [],
   "source": [
    "clean_processed.head()"
   ]
  },
  {
   "cell_type": "code",
   "execution_count": null,
   "metadata": {},
   "outputs": [],
   "source": []
  }
 ],
 "metadata": {
  "kernelspec": {
   "display_name": "Python 3",
   "language": "python",
   "name": "python3"
  },
  "language_info": {
   "codemirror_mode": {
    "name": "ipython",
    "version": 3
   },
   "file_extension": ".py",
   "mimetype": "text/x-python",
   "name": "python",
   "nbconvert_exporter": "python",
   "pygments_lexer": "ipython3",
   "version": "3.7.4"
  }
 },
 "nbformat": 4,
 "nbformat_minor": 2
}
