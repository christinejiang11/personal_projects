{
 "cells": [
  {
   "cell_type": "code",
   "execution_count": 113,
   "metadata": {},
   "outputs": [],
   "source": [
    "#ideas for importing data:\n",
    "#1. get data in batches: export to a list, export list to a csv, import csv for each new run - do data preprocessing\n",
    "#2. get data in batches, process each batch, export to a csv, import csv with specified datatypes\n",
    "#3. how big is a \"big\" dataset? whats the general limit for what i can export to work with on my computer?\n",
    "#4. multithreading vs. multiprocessing?\n",
    "#5. export data to a database? SQLalchemy\n",
    "#6. work directly in colab, then download and export to github?\n",
    "#\n",
    "#call with ori:\n",
    "#options:\n",
    "#1. download locally, wait for however long it takes, large = when it stops fitting in ram\n",
    "#mem = temp working space, fast to access but can't store much, might be erased; disk = long term storage\n",
    "#goal = get something done quickly\n",
    "#embarrassingly parallel problems: processes don't need to talk to each other \n",
    "\n",
    "#2. BQ: data stays in google servers, might have to pay eventually, if you need to do a lot of processing / really large datasets\n",
    "#take the processed results \n",
    "#use api to query from BQ\n",
    "\n",
    "#3. spark cluster on AWS\n",
    "\n",
    "#keep raw data - quickly recover\n",
    "\n",
    "#python stores each num as an obj; each obj has overhead involved (methods, value, ref count)\n",
    "#numpy stores all of these values as one obj"
   ]
  },
  {
   "cell_type": "markdown",
   "metadata": {},
   "source": [
    "## To Do:\n",
    "- multiprocessing or multithreading to get more data\n",
    "- save data to csv, use pandas to read in and indicate appropriate data types\n",
    "- data processing: add time, drop nulls\n",
    "- reduce memory\n",
    "- create cleaner categories; create function to indicate any new categories that need to be coded\n"
   ]
  },
  {
   "cell_type": "markdown",
   "metadata": {},
   "source": [
    "## Import dataset, reduce memory"
   ]
  },
  {
   "cell_type": "code",
   "execution_count": 491,
   "metadata": {},
   "outputs": [],
   "source": [
    "import pandas as pd\n",
    "import numpy as np\n",
    "import requests\n",
    "from sodapy import Socrata\n",
    "import os\n",
    "import seaborn as sns\n",
    "from matplotlib import pyplot as plt\n",
    "import sys\n",
    "from fuzzywuzzy import process\n",
    "from fuzzywuzzy import fuzz\n",
    "import pygsheets\n",
    "from datetime import datetime, date, time \n",
    "import json\n",
    "\n",
    "from bokeh.plotting import figure, output_file, output_notebook, show, save, reset_output, gmap\n",
    "from bokeh.models import ColumnDataSource, GMapOptions, HoverTool, BasicTicker, ColorBar, LinearColorMapper, PrintfTickFormatter\n",
    "from bokeh.palettes import Spectral6, all_palettes, brewer\n",
    "from bokeh.transform import factor_cmap, transform, linear_cmap\n",
    "from bokeh.layouts import column, row, layout\n",
    "from bokeh.io import output_file, show\n",
    "from bokeh.sampledata.unemployment1948 import data\n",
    "\n",
    "os.getcwd()\n",
    "pd.options.display.max_columns=50"
   ]
  },
  {
   "cell_type": "code",
   "execution_count": 7,
   "metadata": {},
   "outputs": [
    {
     "data": {
      "text/plain": [
       "[{'count': '1020748'}]"
      ]
     },
     "execution_count": 7,
     "metadata": {},
     "output_type": "execute_result"
    }
   ],
   "source": [
    "#define parameters for endpoint, dataset, and app token\n",
    "data_url = 'data.cityofnewyork.us'\n",
    "dataset = 'erm2-nwe9'\n",
    "app_token = 'dM7DDeidbAmgtydtJVV1epbiU'\n",
    "\n",
    "#sets up the connection, need application token to override throttling limits\n",
    "#username and password only required for creating or modifying data\n",
    "client = Socrata(data_url, app_token)\n",
    "client.timeout = 6000\n",
    "\n",
    "#count number of records in desired dataset\n",
    "record_count = client.get(dataset, select='count(*)', where=\"created_date >='2019-11-01'\")\n",
    "record_count"
   ]
  },
  {
   "cell_type": "code",
   "execution_count": 8,
   "metadata": {},
   "outputs": [
    {
     "name": "stdout",
     "output_type": "stream",
     "text": [
      "0 rows retrieved\n",
      "500000 rows retrieved\n",
      "1000000 rows retrieved\n"
     ]
    }
   ],
   "source": [
    "def get_data(chunk_size=500000, total_rows=1000000):\n",
    "    start = 0\n",
    "    results=[]\n",
    "\n",
    "    #paginate through dataset in sets of 10000 to get all records since 2019\n",
    "    while True:\n",
    "        print(f'{start} rows retrieved')\n",
    "        results.extend(client.get(dataset,where=\"created_date >= '2019-11-01'\", \n",
    "                                  limit=chunk_size, offset=start))\n",
    "        start += chunk_size\n",
    "        if start > total_rows:\n",
    "            break\n",
    "    return results\n",
    "\n",
    "orig_results = get_data()\n",
    "orig_df = pd.DataFrame(orig_results)\n",
    "orig_df.to_csv('/Users/christinejiang/Documents/Python/data/311_data.csv', index=False)"
   ]
  },
  {
   "cell_type": "code",
   "execution_count": 9,
   "metadata": {},
   "outputs": [],
   "source": [
    "def reduce_memory(df):\n",
    "    \"\"\"improved version of memory reduction function. uses pd.to_numeric to downcast types;\n",
    "    also considers whether there are few enough unique values to warrant use of category vs. object.\"\"\"\n",
    "    orig_size = df.memory_usage().sum()/1024**2\n",
    "    dtypes = df.dtypes.astype(str).unique()\n",
    "    converted_float = pd.DataFrame()\n",
    "    converted_int = pd.DataFrame()\n",
    "    converted_obj = pd.DataFrame()\n",
    "    converted_misc = pd.DataFrame()\n",
    "\n",
    "    #convert floats\n",
    "    selected_float = df.select_dtypes(include='float')\n",
    "    converted_float = selected_float.apply(pd.to_numeric, downcast='float')\n",
    "    float_size = selected_float.memory_usage().sum()/1024**2\n",
    "    converted_float_size = converted_float.memory_usage().sum()/1024**2\n",
    "    print(f'floats: {float_size:.2f} reduced to {converted_float_size:.2f} MB')\n",
    "\n",
    "    #convert ints\n",
    "    selected_int = df.select_dtypes(include='integer')\n",
    "    converted_int = selected_int.apply(pd.to_numeric, downcast='integer')\n",
    "    int_size = selected_int.memory_usage().sum()/1024**2\n",
    "    converted_int_size = converted_int.memory_usage().sum()/1024**2\n",
    "    print(f'ints: {int_size:.2f} reduced to {converted_int_size:.2f} MB')\n",
    "    \n",
    "    #convert objects / categories\n",
    "    selected_object = df.select_dtypes(include=['object', 'category'])\n",
    "    obj_size = selected_object.memory_usage().sum()/1024**2\n",
    "    for col in selected_object.columns:\n",
    "        count = len(selected_object[col])\n",
    "        unique = len(selected_object[col].astype(str).unique())\n",
    "        if unique < count/2:\n",
    "            converted_obj[col] = selected_object[col].astype(str).astype('category')\n",
    "        else:\n",
    "            converted_obj[col] = selected_object[col].astype(str)\n",
    "    converted_obj_size = converted_obj.memory_usage().sum()/1024**2\n",
    "    print(f'object: {obj_size:.2f} reduced to {converted_obj_size:.2f} MB')\n",
    "\n",
    "    #join floats, ints, and objects / categories\n",
    "    float_int = converted_float.join(converted_int)\n",
    "    float_int_obj = float_int.join(converted_obj)\n",
    "    \n",
    "    #for any columns of any other type, keep them the same and join to the converted dataframe\n",
    "    no_change_cols = [x for x in df.columns if x not in float_int_obj.columns]\n",
    "    reduced_df = float_int_obj.join(df[no_change_cols])\n",
    "    \n",
    "    #re-order columns to appear in original order\n",
    "    reduced_df = reduced_df[df.columns]\n",
    "    reduced_size = reduced_df.memory_usage().sum()/1024**2\n",
    "    print(f'final df: {orig_size:.2f} reduced to {reduced_size:.2f} MB, {(orig_size-reduced_size)/orig_size*100:.1f}% reduction')\n",
    "    return reduced_df"
   ]
  },
  {
   "cell_type": "code",
   "execution_count": 10,
   "metadata": {},
   "outputs": [
    {
     "name": "stderr",
     "output_type": "stream",
     "text": [
      "/opt/anaconda3/lib/python3.7/site-packages/IPython/core/interactiveshell.py:3058: DtypeWarning: Columns (38,40) have mixed types. Specify dtype option on import or set low_memory=False.\n",
      "  interactivity=interactivity, compiler=compiler, result=result)\n"
     ]
    },
    {
     "name": "stdout",
     "output_type": "stream",
     "text": [
      "floats: 46.73 reduced to 23.36 MB\n",
      "ints: 7.79 reduced to 3.89 MB\n",
      "object: 264.78 reduced to 100.95 MB\n",
      "final df: 319.30 reduced to 128.21 MB, 59.8% reduction\n"
     ]
    }
   ],
   "source": [
    "#olddf - most dtypes are objects, some are ints and some are floats\n",
    "#BUT olddf datatypes get changed inplace after running reduce_mem_usage! becomes mostly categorical\n",
    "olddf = pd.read_csv('/Users/christinejiang/Documents/Python/data/311_data.csv')\n",
    "\n",
    "#newdf - most dtypes are categorical, some ints and floats\n",
    "newdf = reduce_memory(olddf)"
   ]
  },
  {
   "cell_type": "code",
   "execution_count": 11,
   "metadata": {},
   "outputs": [
    {
     "data": {
      "text/plain": [
       "<matplotlib.axes._subplots.AxesSubplot at 0x1a761704d0>"
      ]
     },
     "metadata": {},
     "output_type": "display_data"
    },
    {
     "data": {
      "image/png": "[encoded data removed]",
      "text/plain": [
       "<Figure size 1080x288 with 2 Axes>"
      ]
     },
     "metadata": {
      "needs_background": "light"
     },
     "output_type": "display_data"
    }
   ],
   "source": [
    "#need to fix this - categorical blanks are not showing up as blanks\n",
    "plt.rc('figure',figsize=(15,4))\n",
    "#display(sns.heatmap(olddf.isnull()))\n",
    "display(sns.heatmap(newdf.isnull()))"
   ]
  },
  {
   "cell_type": "markdown",
   "metadata": {},
   "source": [
    "## Data Processing\n",
    "- need to create a function that will show the new, unmapped categories for each new imported dataset\n",
    "- need to indicate column types upon reading in with pandas, use the reduce memory function after preprocessing"
   ]
  },
  {
   "cell_type": "code",
   "execution_count": 12,
   "metadata": {},
   "outputs": [],
   "source": [
    "def preprocess_df(df):\n",
    "    '''drop columns that are mostly blank, create time-related columns from date columns'''\n",
    "    #drop mostly blank columns\n",
    "    cleandf = df.drop(['intersection_street_1',\n",
    "               'intersection_street_2',\n",
    "               'taxi_company_borough',\n",
    "               'taxi_pick_up_location',\n",
    "               'bridge_highway_name',\n",
    "               'bridge_highway_direction',\n",
    "               'road_ramp',\n",
    "               'bridge_highway_segment',\n",
    "               'landmark',\n",
    "               'vehicle_type'], axis=1, inplace=False)\n",
    "\n",
    "    #convert date related columns to datetime\n",
    "    for col in cleandf.columns:\n",
    "        if 'date' in col:\n",
    "            cleandf[col] = pd.to_datetime(cleandf[col])\n",
    "            \n",
    "    #created time-related columns from date columns\n",
    "    cleandf['created_mdy'] = [x.strftime('%Y-%m-%d') for x in cleandf['created_date']]\n",
    "    cleandf['created_year'] = [x.year for x in cleandf['created_date']]\n",
    "    cleandf['created_month'] = [x.strftime('%b') for x in cleandf['created_date']]\n",
    "    cleandf['created_day'] = [x.day for x in cleandf['created_date']]\n",
    "    cleandf['created_weekday'] = [x.strftime('%a') for x in cleandf['created_date']]\n",
    "    cleandf['created_week'] = [x.week for x in cleandf['created_date']]\n",
    "    cleandf['created_hour'] = [x.hour for x in cleandf['created_date']]\n",
    "    cleandf['closed_hour'] = [x.hour for x in cleandf['closed_date']]\n",
    "    cleandf['time_to_close'] = cleandf['closed_date'] - cleandf['created_date']\n",
    "    cleandf['count'] = 1\n",
    "    return cleandf"
   ]
  },
  {
   "cell_type": "code",
   "execution_count": 13,
   "metadata": {},
   "outputs": [],
   "source": [
    "def export_col_values(workbook, df, columns):\n",
    "    \"\"\"for a list of columns, creates a new sheet for each column and exports unique values and their counts to that sheet\"\"\"\n",
    "    for col in columns:\n",
    "        value_counts = df[col].value_counts()\n",
    "        counts_df = pd.DataFrame(value_counts).reset_index()\n",
    "        try:\n",
    "            worksheet = workbook.worksheet_by_title(col)\n",
    "        except WorksheetNotFound:\n",
    "            workbook.add_worksheet(col)\n",
    "            worksheet = workbook.worksheet_by_title(col)\n",
    "        worksheet.set_dataframe(counts_df, start='A1')\n",
    "    print(f'{len(columns)} sets of column values exported.')\n",
    "        \n",
    "def get_valid_names(workbook, columns, start='D1'):\n",
    "    \"\"\"extracts the valid names manually entered by the user in column D of the workbook\"\"\"\n",
    "    valid_names = {}\n",
    "    for col in columns:\n",
    "        worksheet = workbook.worksheet_by_title(col)\n",
    "        valid_matrix = worksheet.get_values(start='D1', end='D100')\n",
    "        valid_names[col] = [v[0] for v in valid_matrix]\n",
    "    return valid_names\n",
    "\n",
    "def fuzzy_match(value):\n",
    "    \"\"\"returns the best match for each column; fuzzy match score of < 90 will return 'Other'\"\"\"\n",
    "    match = process.extract(query=value, choices=valid_names[col], limit=1)\n",
    "    if match[0][1] < 90:\n",
    "        return 'Other'\n",
    "    else:\n",
    "        return match[0][0]"
   ]
  },
  {
   "cell_type": "code",
   "execution_count": 17,
   "metadata": {},
   "outputs": [],
   "source": [
    "#use pygsheets to connect to workbook where we will export unique column values\n",
    "client = pygsheets.authorize(service_account_file='/Users/christinejiang/Documents/Python/data/client_secret.json')\n",
    "workbook = client.open('311_data_cleaning')\n",
    "columns = ['agency_name','complaint_type','descriptor','location_type','city']\n",
    "\n",
    "#export unique column values and their counts\n",
    "export_col_values(workbook, newdf, columns)"
   ]
  },
  {
   "cell_type": "code",
   "execution_count": 19,
   "metadata": {},
   "outputs": [],
   "source": [
    "#COMMENT OUT THIS CELL IF DOING CATEGORY REVIEW\n",
    "#get dictionary of lists with valid names for each column\n",
    "valid_names = get_valid_names(workbook, columns, start='D1')\n",
    "\n",
    "#fuzzy match each of the columns to the available values\n",
    "for col in columns:\n",
    "    newdf['cleaned_'+col] = newdf[col].apply(fuzzy_match)"
   ]
  },
  {
   "cell_type": "code",
   "execution_count": 20,
   "metadata": {},
   "outputs": [
    {
     "name": "stdout",
     "output_type": "stream",
     "text": [
      "floats: 7.79 reduced to 3.89 MB\n",
      "ints: 50.62 reduced to 17.52 MB\n",
      "object: 121.72 reduced to 68.19 MB\n",
      "final df: 234.64 reduced to 144.12 MB, 38.6% reduction\n"
     ]
    }
   ],
   "source": [
    "#preprocess dataset to remove mostly null columns and create date columns\n",
    "processed_df = preprocess_df(newdf)\n",
    "clean_processed = reduce_memory(processed_df)"
   ]
  },
  {
   "cell_type": "markdown",
   "metadata": {},
   "source": [
    "## Bokeh Visualizations\n",
    "- function to create bar graphs\n",
    "- function to create tables\n",
    "- function to create heatmaps\n",
    "- function to create geo map\n",
    "- function to create call outs\n",
    "- add visualizations and sliders to dashboard"
   ]
  },
  {
   "cell_type": "markdown",
   "metadata": {},
   "source": [
    "### Bar Graph"
   ]
  },
  {
   "cell_type": "code",
   "execution_count": 378,
   "metadata": {},
   "outputs": [],
   "source": [
    "class BokehBarGraph:\n",
    "    def __init__(self, category, value, num_categories=9):\n",
    "        self.category = category\n",
    "        self.value = value\n",
    "        self.num_categories = num_categories\n",
    "        self.value_count = self.create_table()\n",
    "        \n",
    "    def create_table(self):\n",
    "        category = self.category\n",
    "        value = self.value\n",
    "        num_categories = self.num_categories\n",
    "        grouped_df = pd.DataFrame(clean_processed.groupby(category)[value].sum()).reset_index()[0:num_categories]\n",
    "        grouped_df[category] = grouped_df[category].astype(str)\n",
    "        grouped_df = grouped_df.sort_values(value, ascending=True)\n",
    "        try:\n",
    "            grouped_df['color'] = palettes.brewer['YlGnBu'][num_categories]\n",
    "        except KeyError:\n",
    "            print('Too many categories selected; select up to 9 categories to display.')\n",
    "        return grouped_df\n",
    "    \n",
    "    def create_bargraph(self):\n",
    "        category = self.category\n",
    "        value = self.value\n",
    "        value_count = self.value_count\n",
    "        #output_file('bargraph.html')\n",
    "        source = ColumnDataSource(value_count)\n",
    "\n",
    "        bargraph = figure(y_range=value_count[category], plot_height = 300, plot_width=600, background_fill_color=\"#000000\",\n",
    "                   x_axis_label=value, y_axis_label=category)\n",
    "        bargraph.grid.visible=False\n",
    "        \n",
    "#         color_map = factor_cmap(field_name=category, palette = Spectral6, \n",
    "#                                 factors=value_count[category].unique())\n",
    "        bargraph.hbar(y=category,right=value,source=source, height=.8, color='color', hover_color='white')\n",
    "        category_value = f'@{category}'\n",
    "        value_value = f'@{value}'\n",
    "        hover = HoverTool(tooltips=[(category,category_value),(value, value_value)])\n",
    "        bargraph.add_tools(hover)\n",
    "        return bargraph\n",
    "        #show(p1)"
   ]
  },
  {
   "cell_type": "markdown",
   "metadata": {},
   "source": [
    "### Heatmap"
   ]
  },
  {
   "cell_type": "code",
   "execution_count": 379,
   "metadata": {},
   "outputs": [],
   "source": [
    "class BokehHeatmap:\n",
    "    def __init__(self, x, y, value, exclude=None):\n",
    "        self.x = x\n",
    "        self.y = y\n",
    "        self.value = value\n",
    "        self.exclude = exclude\n",
    "        self.pivot = self.create_table()[0]\n",
    "        self.df_pivot = self.create_table()[1]\n",
    "        \n",
    "    def create_table(self):\n",
    "        value = self.value\n",
    "        x=self.x\n",
    "        y=self.y\n",
    "        exclude = self.exclude\n",
    "        pivot = clean_processed.pivot_table(values=value,index=x,columns=y,aggfunc='sum')\n",
    "        if exclude:\n",
    "            try:\n",
    "                pivot = pivot.drop(exclude, axis=0)\n",
    "                print(f'{exclude} dropped from x-axis.')\n",
    "            except KeyError:\n",
    "                pivot = pivot.drop(exclude, axis=1)\n",
    "                print(f'{exclude} dropped from y-axis.')\n",
    "            except:\n",
    "                print('Exclusion does not exist in index or columns.')\n",
    "        pivot.columns = pivot.columns.astype(str)\n",
    "        pivot.index = pivot.index.astype(str)\n",
    "        list(pivot.index)\n",
    "        df_pivot = pd.DataFrame(pivot.stack(), columns=[value]).reset_index()\n",
    "        return pivot, df_pivot\n",
    "\n",
    "    def create_heatmap(self, title=None, x_ticks=None, y_ticks=None):\n",
    "        #reset_output()\n",
    "        #output_notebook()\n",
    "        df_pivot = self.df_pivot\n",
    "        pivot = self.pivot\n",
    "        x = self.x\n",
    "        y = self.y\n",
    "        value = self.value \n",
    "        source = ColumnDataSource(df_pivot)\n",
    "        \n",
    "        if title:\n",
    "            graph_title = title\n",
    "        else:\n",
    "            graph_title= f'{value} by {x} and {y}'\n",
    "        \n",
    "        if x_ticks:\n",
    "            x_range = x_ticks\n",
    "        else:\n",
    "            x_range = list(pivot.index)\n",
    "            \n",
    "        if y_ticks:\n",
    "            y_range = y_ticks\n",
    "        else:\n",
    "            y_range = list((pivot.columns))\n",
    "\n",
    "        colors = [\"#75968f\", \"#a5bab7\", \"#c9d9d3\", \"#e2e2e2\", \"#dfccce\", \"#ddb7b1\", \"#cc7878\", \"#933b41\", \"#550b1d\"]\n",
    "        mapper = LinearColorMapper(palette=colors, low=df_pivot[value].min(), high=df_pivot[value].max())\n",
    "\n",
    "        p = figure(plot_width=900, plot_height=500, title=graph_title,\n",
    "                   x_range=x_range, y_range=y_range,\n",
    "                   toolbar_location=None, x_axis_location=\"below\")\n",
    "\n",
    "        p.rect(x=x, y=y, width=1, height=1, source=source, line_color='white', fill_color=transform(value, mapper))\n",
    "        color_bar = ColorBar(color_mapper=mapper, location=(0, 0),\n",
    "                             ticker=BasicTicker(desired_num_ticks=len(colors)))\n",
    "        p.add_layout(color_bar, 'right')\n",
    "        \n",
    "        value_value = f'@{value}'\n",
    "        x_value = f'@{x}'\n",
    "        y_value = f'@{y}'\n",
    "\n",
    "        hover = HoverTool(tooltips=[(x, x_value),(y, y_value), (value, value_value)])\n",
    "        p.add_tools(hover)\n",
    "        p.grid.visible=False\n",
    "\n",
    "        p.axis.axis_line_color = None\n",
    "        p.axis.major_tick_line_color = None\n",
    "        p.axis.major_label_text_font_size = \"11px\"\n",
    "        p.axis.major_label_standoff = 0\n",
    "        p.xaxis.major_label_orientation = 1.0\n",
    "        return p"
   ]
  },
  {
   "cell_type": "markdown",
   "metadata": {},
   "source": [
    "### Geo Map"
   ]
  },
  {
   "cell_type": "code",
   "execution_count": 380,
   "metadata": {},
   "outputs": [],
   "source": [
    "class BokehGeoMap():\n",
    "    def __init__(self, color='salmon', display_number=5000):\n",
    "        self.color = color\n",
    "        self.display_number = display_number\n",
    "        self.value_count = self.create_table()\n",
    "        \n",
    "    def create_table(self):\n",
    "        clean_processed['round_lat'] = round(clean_processed['latitude'],3)\n",
    "        clean_processed['round_lon'] = round(clean_processed['longitude'],3)\n",
    "        latlon_df = pd.DataFrame(clean_processed.groupby(['round_lat', 'round_lon'])['count'].sum()).reset_index()\n",
    "        latlon_df.sort_values('count', ascending=False)\n",
    "        latlon_df['scaled'] = (latlon_df['count']/latlon_df['count'].max()*50)\n",
    "        latlon_sorted = latlon_df.sort_values('scaled',ascending=False)\n",
    "        return latlon_sorted\n",
    "    \n",
    "    def create_geomap(self):\n",
    "        #output_file('maps.html')\n",
    "        color = self.color\n",
    "        display_number = self.display_number\n",
    "        value_count = self.value_count\n",
    "        sample_df = value_count[:display_number]\n",
    "        \n",
    "        latitudes = sample_df['round_lat']\n",
    "        longitudes = sample_df['round_lon']\n",
    "        sizes = sample_df['scaled']\n",
    "\n",
    "        with open('/Users/christinejiang/Documents/Python/data/client_secret.json') as f:\n",
    "            data = json.load(f)\n",
    "        api_key = data[\"google_api_key\"]\n",
    "\n",
    "        map_options = GMapOptions(lat=40.76, lng=-73.95, map_type=\"roadmap\", zoom=11)\n",
    "        call_map = gmap(api_key, map_options, title=\"NYC 311 Calls\")\n",
    "        source = ColumnDataSource(data=dict(lat=latitudes,lon=longitudes, sizes = sizes))\n",
    "        call_map.circle(x=\"lon\", y=\"lat\", size='sizes', fill_color=color, fill_alpha=0.7, line_color=color, source=source)\n",
    "        return call_map"
   ]
  },
  {
   "cell_type": "code",
   "execution_count": 482,
   "metadata": {},
   "outputs": [],
   "source": [
    "clean_processed['cleaned_descriptor'] = clean_processed['cleaned_descriptor'].astype(str)\n",
    "clean_processed['created_mdy'] = clean_processed['created_mdy'].astype(str)\n",
    "pivot = clean_processed.pivot_table(values='count', index='created_mdy', columns='cleaned_descriptor', aggfunc=sum).reset_index()\n",
    "source = ColumnDataSource(pivot)\n",
    "\n",
    "reset_output()\n",
    "linegraph = figure(x_range=pivot['created_mdy'])\n",
    "for col in pivot.columns:\n",
    "    linegraph.line(x='created_mdy', y = col, source=source, color='red', legend='test')\n",
    "factor_cmap(field_name='test', palette='Viridis256', factors=pivot.columns)\n",
    "\n",
    "hover = HoverTool(tooltips=[(\"Date\",\"@created_mdy\"),(\"Ceiling\",\"@Ceiling\")])\n",
    "linegraph.add_tools(hover)\n",
    "show(linegraph)"
   ]
  },
  {
   "cell_type": "code",
   "execution_count": 496,
   "metadata": {},
   "outputs": [
    {
     "data": {
      "text/plain": [
       "{'field': 'test', 'transform': CategoricalColorMapper(id='26895', ...)}"
      ]
     },
     "execution_count": 496,
     "metadata": {},
     "output_type": "execute_result"
    }
   ],
   "source": [
    "test = factor_cmap(field_name='test', palette='Viridis256', factors=pivot.columns)\n",
    "test"
   ]
  },
  {
   "cell_type": "code",
   "execution_count": 384,
   "metadata": {},
   "outputs": [],
   "source": [
    "#create graphs of each kind, format into dashboard\n",
    "complaint_count = BokehBarGraph(category='cleaned_descriptor', value='count').create_bargraph()\n",
    "month_hour = BokehHeatmap(x='created_week', y='created_hour', value='count').create_heatmap()\n",
    "geomap = BokehGeoMap().create_geomap()\n",
    "\n",
    "rowdash = row(complaint_count, complaint_count)\n",
    "show(column(rowdash, month_hour, geomap))"
   ]
  }
 ],
 "metadata": {
  "kernelspec": {
   "display_name": "Python 3",
   "language": "python",
   "name": "python3"
  },
  "language_info": {
   "codemirror_mode": {
    "name": "ipython",
    "version": 3
   },
   "file_extension": ".py",
   "mimetype": "text/x-python",
   "name": "python",
   "nbconvert_exporter": "python",
   "pygments_lexer": "ipython3",
   "version": "3.7.4"
  }
 },
 "nbformat": 4,
 "nbformat_minor": 2
}
