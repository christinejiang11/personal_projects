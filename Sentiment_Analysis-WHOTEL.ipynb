{
 "cells": [
  {
   "cell_type": "markdown",
   "metadata": {},
   "source": [
    "## Sentiment Analysis for Whispr\n",
    "\n",
    "1. import data from google sheets\n",
    "2. clean dataset and create synthetic variables\n",
    "3. summarize dataset: how many records per category, reviews over time\n",
    "4. evaluate sentiment of review, give confidence interval\n",
    "5. calculate summary insights: average sentiment / subjectivity per item, reviews per item\n",
    "6. compare against manual evaluation\n",
    "7. export data to google sheets"
   ]
  },
  {
   "cell_type": "code",
   "execution_count": 113,
   "metadata": {},
   "outputs": [],
   "source": [
    "#operational packages\n",
    "import pandas as pd\n",
    "import numpy as np\n",
    "import string\n",
    "\n",
    "#packages for google sheets\n",
    "import gspread\n",
    "import pygsheets\n",
    "from oauth2client.service_account import ServiceAccountCredentials\n",
    "\n",
    "#plotting\n",
    "from matplotlib import pyplot as plt\n",
    "import seaborn as sns\n",
    "\n",
    "#natural language processing\n",
    "from textblob import TextBlob\n",
    "import nltk\n",
    "from nltk import pos_tag_sents, pos_tag\n",
    "from nltk.stem import WordNetLemmatizer\n",
    "from nltk.corpus import wordnet, stopwords, words\n",
    "\n",
    "#sklearn\n",
    "from sklearn.model_selection import train_test_split\n",
    "from sklearn.neighbors import KNeighborsClassifier\n",
    "\n",
    "#plot formatting\n",
    "%matplotlib inline\n",
    "sns.set_style('darkgrid')\n",
    "pd.options.display.max_rows = 100"
   ]
  },
  {
   "cell_type": "markdown",
   "metadata": {},
   "source": [
    "### 1a. Import data from GS using GSpread\n",
    "- connect to google sheets API\n",
    "- create spreadsheet and worksheet objects, explore GSpread library\n",
    "- create dataframe of reviews"
   ]
  },
  {
   "cell_type": "code",
   "execution_count": 23,
   "metadata": {},
   "outputs": [],
   "source": [
    "#1 define the scope of your access tokens\n",
    "scope = ['https://www.googleapis.com/auth/drive','https://spreadsheets.google.com/feeds']\n",
    "\n",
    "#2 after getting oauth2 credentials in a json, obtain an access token from google authorization server\n",
    "#by creating serviceaccountcredentials and indicating scope, which controls resources / operations that an\n",
    "#access token permits\n",
    "creds = ServiceAccountCredentials.from_json_keyfile_name('client_secret2.json', scope)\n",
    "\n",
    "#3 log into the google API using oauth2 credentials\n",
    "#returns gspread.Client instance\n",
    "c = gspread.authorize(creds)\n",
    "\n",
    "spreadsheet = c.open('UK Sentiment')\n",
    "worksheet = spreadsheet.worksheet('WHotel_Sentiment')\n",
    "records = worksheet.get_all_records()\n",
    "df = pd.DataFrame(records)\n",
    "df = df[['Contents','Sentiment','Topic','Location','Comment']]"
   ]
  },
  {
   "cell_type": "markdown",
   "metadata": {},
   "source": [
    "### 1b. Import data from GS using pygsheets"
   ]
  },
  {
   "cell_type": "code",
   "execution_count": 24,
   "metadata": {},
   "outputs": [
    {
     "data": {
      "text/html": [
       "<div>\n",
       "<style scoped>\n",
       "    .dataframe tbody tr th:only-of-type {\n",
       "        vertical-align: middle;\n",
       "    }\n",
       "\n",
       "    .dataframe tbody tr th {\n",
       "        vertical-align: top;\n",
       "    }\n",
       "\n",
       "    .dataframe thead th {\n",
       "        text-align: right;\n",
       "    }\n",
       "</style>\n",
       "<table border=\"1\" class=\"dataframe\">\n",
       "  <thead>\n",
       "    <tr style=\"text-align: right;\">\n",
       "      <th></th>\n",
       "      <th>review_rating</th>\n",
       "      <th>Review</th>\n",
       "      <th>review_headline</th>\n",
       "      <th>Product (Taste/Experience)</th>\n",
       "    </tr>\n",
       "  </thead>\n",
       "  <tbody>\n",
       "    <tr>\n",
       "      <td>0</td>\n",
       "      <td>5.0 out of 5 stars</td>\n",
       "      <td>I really like these bars, and so do the other ...</td>\n",
       "      <td>A very tasty and well-balanced treat</td>\n",
       "      <td>1</td>\n",
       "    </tr>\n",
       "    <tr>\n",
       "      <td>1</td>\n",
       "      <td>5.0 out of 5 stars</td>\n",
       "      <td>I purchased these because I’m on the 16:8 IF d...</td>\n",
       "      <td>Great size snack for those of us wanting a hea...</td>\n",
       "      <td>1</td>\n",
       "    </tr>\n",
       "    <tr>\n",
       "      <td>2</td>\n",
       "      <td>5.0 out of 5 stars</td>\n",
       "      <td>These are great bars. I find when I'm training...</td>\n",
       "      <td>Price varies a lot !!!</td>\n",
       "      <td>1</td>\n",
       "    </tr>\n",
       "    <tr>\n",
       "      <td>3</td>\n",
       "      <td>5.0 out of 5 stars</td>\n",
       "      <td>Not a protein bar but a very health-designed s...</td>\n",
       "      <td>Possibly the best tasting healthiest snack bar...</td>\n",
       "      <td>1</td>\n",
       "    </tr>\n",
       "    <tr>\n",
       "      <td>4</td>\n",
       "      <td>5.0 out of 5 stars</td>\n",
       "      <td>So good and actually quite low in sugar all co...</td>\n",
       "      <td>Definitely a bar to try and enjoy</td>\n",
       "      <td>1</td>\n",
       "    </tr>\n",
       "  </tbody>\n",
       "</table>\n",
       "</div>"
      ],
      "text/plain": [
       "        review_rating                                             Review  \\\n",
       "0  5.0 out of 5 stars  I really like these bars, and so do the other ...   \n",
       "1  5.0 out of 5 stars  I purchased these because I’m on the 16:8 IF d...   \n",
       "2  5.0 out of 5 stars  These are great bars. I find when I'm training...   \n",
       "3  5.0 out of 5 stars  Not a protein bar but a very health-designed s...   \n",
       "4  5.0 out of 5 stars  So good and actually quite low in sugar all co...   \n",
       "\n",
       "                                     review_headline  \\\n",
       "0               A very tasty and well-balanced treat   \n",
       "1  Great size snack for those of us wanting a hea...   \n",
       "2                             Price varies a lot !!!   \n",
       "3  Possibly the best tasting healthiest snack bar...   \n",
       "4                  Definitely a bar to try and enjoy   \n",
       "\n",
       "  Product (Taste/Experience)  \n",
       "0                          1  \n",
       "1                          1  \n",
       "2                          1  \n",
       "3                          1  \n",
       "4                          1  "
      ]
     },
     "execution_count": 24,
     "metadata": {},
     "output_type": "execute_result"
    }
   ],
   "source": [
    "#authorization in one step - read client_secret\n",
    "gc = pygsheets.authorize(service_file='client_secret.json')\n",
    "spreadsheet2 = gc.open('UK Sentiment')\n",
    "\n",
    "#clean up workbook \n",
    "for item in spreadsheet2.worksheets():\n",
    "    title = item.title\n",
    "    if item.title not in ['UK_Reviews','WHotel_Sentiment','WHOTELS_analyzed']:\n",
    "        worksheet2 = spreadsheet2.worksheet_by_title(str(item.title))\n",
    "        spreadsheet2.del_worksheet(worksheet2)\n",
    "        print('{} sheet deleted'.format(item.title))\n",
    "        \n",
    "worksheet2 = spreadsheet2.worksheet_by_title('WHotel_Sentiment')\n",
    "records2 = worksheet2.get_all_records()\n",
    "df2 = pd.DataFrame(records2)\n",
    "df2 = df2[['Contents','Sentiment','Topic','Location','Comment']]\n",
    "\n",
    "#get data for kind bars\n",
    "kindbar = spreadsheet.worksheet('UK_Reviews')\n",
    "kindrecords = kindbar.get_all_records()\n",
    "kind_df = pd.DataFrame(kindrecords)\n",
    "kind_df = kind_df[['review_rating','Review','review_headline','Product (Taste/Experience)']]\n",
    "\n",
    "kind_df.head()"
   ]
  },
  {
   "cell_type": "markdown",
   "metadata": {},
   "source": [
    "### 2. Simple sentiment analysis"
   ]
  },
  {
   "cell_type": "code",
   "execution_count": 25,
   "metadata": {},
   "outputs": [
    {
     "name": "stderr",
     "output_type": "stream",
     "text": [
      "/Users/christinejiang/opt/anaconda3/lib/python3.7/site-packages/ipykernel_launcher.py:16: FutureWarning: using a dict on a Series for aggregation\n",
      "is deprecated and will be removed in a future version. Use                 named aggregation instead.\n",
      "\n",
      "    >>> grouper.agg(name_1=func_1, name_2=func_2)\n",
      "\n",
      "  app.launch_new_instance()\n"
     ]
    },
    {
     "data": {
      "text/html": [
       "<div>\n",
       "<style scoped>\n",
       "    .dataframe tbody tr th:only-of-type {\n",
       "        vertical-align: middle;\n",
       "    }\n",
       "\n",
       "    .dataframe tbody tr th {\n",
       "        vertical-align: top;\n",
       "    }\n",
       "\n",
       "    .dataframe thead th {\n",
       "        text-align: right;\n",
       "    }\n",
       "</style>\n",
       "<table border=\"1\" class=\"dataframe\">\n",
       "  <thead>\n",
       "    <tr style=\"text-align: right;\">\n",
       "      <th></th>\n",
       "      <th></th>\n",
       "      <th>mean</th>\n",
       "      <th>count</th>\n",
       "    </tr>\n",
       "    <tr>\n",
       "      <th>Sentiment_Category</th>\n",
       "      <th>Textblob_Score</th>\n",
       "      <th></th>\n",
       "      <th></th>\n",
       "    </tr>\n",
       "  </thead>\n",
       "  <tbody>\n",
       "    <tr>\n",
       "      <td rowspan=\"3\" valign=\"top\">Negative</td>\n",
       "      <td>Negative</td>\n",
       "      <td>-0.229419</td>\n",
       "      <td>11.0</td>\n",
       "    </tr>\n",
       "    <tr>\n",
       "      <td>Neutral</td>\n",
       "      <td>0.003046</td>\n",
       "      <td>72.0</td>\n",
       "    </tr>\n",
       "    <tr>\n",
       "      <td>Positive</td>\n",
       "      <td>0.379133</td>\n",
       "      <td>55.0</td>\n",
       "    </tr>\n",
       "    <tr>\n",
       "      <td>Neutral</td>\n",
       "      <td>Neutral</td>\n",
       "      <td>0.028125</td>\n",
       "      <td>1.0</td>\n",
       "    </tr>\n",
       "    <tr>\n",
       "      <td rowspan=\"3\" valign=\"top\">Positive</td>\n",
       "      <td>Negative</td>\n",
       "      <td>-0.400000</td>\n",
       "      <td>1.0</td>\n",
       "    </tr>\n",
       "    <tr>\n",
       "      <td>Neutral</td>\n",
       "      <td>0.001145</td>\n",
       "      <td>14.0</td>\n",
       "    </tr>\n",
       "    <tr>\n",
       "      <td>Positive</td>\n",
       "      <td>0.425419</td>\n",
       "      <td>20.0</td>\n",
       "    </tr>\n",
       "  </tbody>\n",
       "</table>\n",
       "</div>"
      ],
      "text/plain": [
       "                                       mean  count\n",
       "Sentiment_Category Textblob_Score                 \n",
       "Negative           Negative       -0.229419   11.0\n",
       "                   Neutral         0.003046   72.0\n",
       "                   Positive        0.379133   55.0\n",
       "Neutral            Neutral         0.028125    1.0\n",
       "Positive           Negative       -0.400000    1.0\n",
       "                   Neutral         0.001145   14.0\n",
       "                   Positive        0.425419   20.0"
      ]
     },
     "execution_count": 25,
     "metadata": {},
     "output_type": "execute_result"
    }
   ],
   "source": [
    "#baseline sentiment analysis - use textblob polarity, compare accuracy\n",
    "df['Sentiment_Category'] = df['Sentiment'].map({1: 'Positive',2:'Neutral',3:'Negative'})\n",
    "\n",
    "def pos_neg(polarity):\n",
    "    if polarity >= 0.1:\n",
    "        return 'Positive'\n",
    "    if polarity >= 0 and polarity < 0.1:\n",
    "        return 'Neutral'\n",
    "    else:\n",
    "        return 'Negative'\n",
    "\n",
    "df['Polarity'] = [TextBlob(x).polarity for x in df['Contents']]\n",
    "df['Subjectivity'] = [TextBlob(x).subjectivity for x in df['Contents']]\n",
    "df['Textblob_Score'] = df['Polarity'].apply(pos_neg)\n",
    "\n",
    "df.groupby(['Sentiment_Category','Textblob_Score'])['Polarity'].agg({'mean':np.mean, 'count':len})"
   ]
  },
  {
   "cell_type": "markdown",
   "metadata": {},
   "source": [
    "### 3. KNN Sentiment Analysis\n",
    "- data cleaning: remove hashtags and extra whitepsaces\n",
    "- lemmatize contents\n",
    "- count word frequencies of lemmatized words\n",
    "- calculate polarity and choose positive / negative words"
   ]
  },
  {
   "cell_type": "code",
   "execution_count": 242,
   "metadata": {},
   "outputs": [],
   "source": [
    "#function to convert penn POS tags to wordnet\n",
    "lemmatizer = WordNetLemmatizer()\n",
    "def nltk2wn(nltk_tag):\n",
    "    if nltk_tag.startswith('J'):\n",
    "        return wordnet.ADJ\n",
    "    elif nltk_tag.startswith('V'):\n",
    "        return wordnet.VERB\n",
    "    elif nltk_tag.startswith('N'):\n",
    "        return wordnet.NOUN\n",
    "    elif nltk_tag.startswith('R'):\n",
    "        return wordnet.ADV\n",
    "    else:\n",
    "        return None        \n",
    "\n",
    "#function to lemmatize sentence with appropriate pos\n",
    "def lemmatize_sent(sentence):\n",
    "    nltk_tagged = pos_tag([x.lower() for x in nltk.word_tokenize(sentence)])\n",
    "    converted_tags = [(x[0], nltk2wn(x[1])) for x in nltk_tagged]\n",
    "    lemmatized_sent = []\n",
    "    for x in converted_tags:\n",
    "        if x[1] is None:\n",
    "            lemmatized_sent.append(x[0])\n",
    "        else:\n",
    "            lemmatized_sent.append(lemmatizer.lemmatize(x[0], pos = x[1]))                     \n",
    "    #final_sentence = ' '.join(lemmatized_sent)\n",
    "    return lemmatized_sent \n",
    "\n",
    "def is_useful(word):\n",
    "    mystop = stopwords.words('english')\n",
    "    punctuation = string.punctuation\n",
    "    englishwords = [x.lower() for x in words.words()]   \n",
    "    if word not in mystop and word not in punctuation and word in englishwords:\n",
    "        return True\n",
    "    else:\n",
    "        return False\n",
    "\n",
    "#function to find most popular positive and negative words\n",
    "def count_words(df, lemmatized_col):\n",
    "    #create three checks: stopwords, punctuation, english\n",
    "\n",
    "    allwords = df[lemmatized_col].tolist()\n",
    "    unnested = [word for sublist in allwords for word in sublist]\n",
    "    #uniquewords = list(set(test))\n",
    "    \n",
    "    #lemmatize words in comments\n",
    "    #allwords = TextBlob(str(df[lemmatized_col].values.tolist())).tokenize()\n",
    "    #create list of lemmatized words\n",
    "    finalwords = [word for word in unnested if is_useful(word)]\n",
    "\n",
    "    #for lemmatized words, create counts and polarity scores\n",
    "    counts = {x: finalwords.count(x) for x in finalwords}\n",
    "    word_df = pd.DataFrame(counts.items(), columns = ['word','count']).sort_values('count', ascending = False)\n",
    "    word_df['polarity'] = word_df['word'].apply(lambda x: TextBlob(x).polarity)\n",
    "    positives = word_df[word_df['polarity'] > 0].sort_values(['count','polarity'], ascending = False)\n",
    "    negatives = word_df[word_df['polarity'] < 0].sort_values(['count','polarity'], ascending = False)\n",
    "\n",
    "    toptenpos = positives.nlargest(10, columns = 'count').reset_index(drop=True)\n",
    "    toptenneg = negatives.nlargest(10, columns = 'count').reset_index(drop=True)\n",
    "    return toptenpos, toptenneg\n",
    "\n",
    "#function to create dummies for pos and neg words\n",
    "def pos_dummies(df, review_col, pos_words, neg_words):\n",
    "    for word in pos_words.values:\n",
    "        newcol = f'pos_{word[0]}'\n",
    "        df[newcol] = [1 if word[0] in x else 0 for x in df[review_col]]\n",
    "    for word in neg_words.values:\n",
    "        newcol = 'neg_{}'.format(word[0])\n",
    "        df[newcol] = [1 if word[0] in x else 0 for x in df[review_col]]\n",
    "    df['pos_total'] = df[[column for column in df.columns if column[0:3] == 'pos']].sum(axis=1)\n",
    "    df['neg_total'] = df[[column for column in df.columns if column[0:3] == 'neg']].sum(axis=1)\n",
    "    return df"
   ]
  },
  {
   "cell_type": "code",
   "execution_count": 238,
   "metadata": {},
   "outputs": [],
   "source": [
    "#lemmatize and tokenize kind bars\n",
    "kind_df['Lemmatized'] = kind_df['Review'].apply(lemmatize_sent)\n",
    "kind_pos, kind_neg = count_words(kind_df, 'Lemmatized')\n",
    "\n",
    "#lemmatize and tokenize whotels\n",
    "df['Lemmatized'] = df['Contents'].apply(lemmatize_sent)\n",
    "whotels_pos, whotels_neg = count_words(df, 'Lemmatized')\n",
    "\n",
    "#get dummies\n",
    "dummy_kind = pos_dummies(kind_df, 'Lemmatized', kind_pos, kind_neg)"
   ]
  },
  {
   "cell_type": "code",
   "execution_count": 160,
   "metadata": {},
   "outputs": [],
   "source": [
    "dummy_kind['rating'] = [int(x[0]) for x in dummy_kind['review_rating']]\n",
    "dummy_kind.rename(columns = {'Product (Taste/Experience)': 'Product'}, inplace = True)\n",
    "kind_df.dropna(inplace = True)"
   ]
  },
  {
   "cell_type": "code",
   "execution_count": 104,
   "metadata": {},
   "outputs": [
    {
     "data": {
      "text/plain": [
       "<matplotlib.axes._subplots.AxesSubplot at 0x1a2c275890>"
      ]
     },
     "execution_count": 104,
     "metadata": {},
     "output_type": "execute_result"
    },
    {
     "data": {
      "image/png": "[encoded data removed]",
      "text/plain": [
       "<Figure size 432x288 with 2 Axes>"
      ]
     },
     "metadata": {},
     "output_type": "display_data"
    }
   ],
   "source": [
    "sns.heatmap(dummy_kind.isna())"
   ]
  },
  {
   "cell_type": "code",
   "execution_count": 105,
   "metadata": {},
   "outputs": [
    {
     "data": {
      "text/html": [
       "<div>\n",
       "<style scoped>\n",
       "    .dataframe tbody tr th:only-of-type {\n",
       "        vertical-align: middle;\n",
       "    }\n",
       "\n",
       "    .dataframe tbody tr th {\n",
       "        vertical-align: top;\n",
       "    }\n",
       "\n",
       "    .dataframe thead th {\n",
       "        text-align: right;\n",
       "    }\n",
       "</style>\n",
       "<table border=\"1\" class=\"dataframe\">\n",
       "  <thead>\n",
       "    <tr style=\"text-align: right;\">\n",
       "      <th></th>\n",
       "      <th></th>\n",
       "      <th>review_rating</th>\n",
       "    </tr>\n",
       "    <tr>\n",
       "      <th>rating</th>\n",
       "      <th>Product</th>\n",
       "      <th></th>\n",
       "    </tr>\n",
       "  </thead>\n",
       "  <tbody>\n",
       "    <tr>\n",
       "      <td rowspan=\"2\" valign=\"top\">1</td>\n",
       "      <td>1.0</td>\n",
       "      <td>2</td>\n",
       "    </tr>\n",
       "    <tr>\n",
       "      <td>3.0</td>\n",
       "      <td>9</td>\n",
       "    </tr>\n",
       "    <tr>\n",
       "      <td>2</td>\n",
       "      <td>3.0</td>\n",
       "      <td>2</td>\n",
       "    </tr>\n",
       "    <tr>\n",
       "      <td rowspan=\"3\" valign=\"top\">3</td>\n",
       "      <td>1.0</td>\n",
       "      <td>2</td>\n",
       "    </tr>\n",
       "    <tr>\n",
       "      <td>2.0</td>\n",
       "      <td>5</td>\n",
       "    </tr>\n",
       "    <tr>\n",
       "      <td>3.0</td>\n",
       "      <td>2</td>\n",
       "    </tr>\n",
       "    <tr>\n",
       "      <td rowspan=\"3\" valign=\"top\">4</td>\n",
       "      <td>1.0</td>\n",
       "      <td>10</td>\n",
       "    </tr>\n",
       "    <tr>\n",
       "      <td>2.0</td>\n",
       "      <td>5</td>\n",
       "    </tr>\n",
       "    <tr>\n",
       "      <td>3.0</td>\n",
       "      <td>3</td>\n",
       "    </tr>\n",
       "    <tr>\n",
       "      <td rowspan=\"3\" valign=\"top\">5</td>\n",
       "      <td>1.0</td>\n",
       "      <td>215</td>\n",
       "    </tr>\n",
       "    <tr>\n",
       "      <td>2.0</td>\n",
       "      <td>11</td>\n",
       "    </tr>\n",
       "    <tr>\n",
       "      <td>3.0</td>\n",
       "      <td>1</td>\n",
       "    </tr>\n",
       "  </tbody>\n",
       "</table>\n",
       "</div>"
      ],
      "text/plain": [
       "                review_rating\n",
       "rating Product               \n",
       "1      1.0                  2\n",
       "       3.0                  9\n",
       "2      3.0                  2\n",
       "3      1.0                  2\n",
       "       2.0                  5\n",
       "       3.0                  2\n",
       "4      1.0                 10\n",
       "       2.0                  5\n",
       "       3.0                  3\n",
       "5      1.0                215\n",
       "       2.0                 11\n",
       "       3.0                  1"
      ]
     },
     "execution_count": 105,
     "metadata": {},
     "output_type": "execute_result"
    }
   ],
   "source": [
    "dummy_kind.groupby(['rating','Product'])[['review_rating']].count()"
   ]
  },
  {
   "cell_type": "code",
   "execution_count": 106,
   "metadata": {},
   "outputs": [
    {
     "data": {
      "text/html": [
       "<div>\n",
       "<style scoped>\n",
       "    .dataframe tbody tr th:only-of-type {\n",
       "        vertical-align: middle;\n",
       "    }\n",
       "\n",
       "    .dataframe tbody tr th {\n",
       "        vertical-align: top;\n",
       "    }\n",
       "\n",
       "    .dataframe thead th {\n",
       "        text-align: right;\n",
       "    }\n",
       "</style>\n",
       "<table border=\"1\" class=\"dataframe\">\n",
       "  <thead>\n",
       "    <tr style=\"text-align: right;\">\n",
       "      <th></th>\n",
       "      <th></th>\n",
       "      <th>rating</th>\n",
       "    </tr>\n",
       "    <tr>\n",
       "      <th>pos_total</th>\n",
       "      <th>rating</th>\n",
       "      <th></th>\n",
       "    </tr>\n",
       "  </thead>\n",
       "  <tbody>\n",
       "    <tr>\n",
       "      <td rowspan=\"4\" valign=\"top\">0</td>\n",
       "      <td>1</td>\n",
       "      <td>5</td>\n",
       "    </tr>\n",
       "    <tr>\n",
       "      <td>3</td>\n",
       "      <td>2</td>\n",
       "    </tr>\n",
       "    <tr>\n",
       "      <td>4</td>\n",
       "      <td>6</td>\n",
       "    </tr>\n",
       "    <tr>\n",
       "      <td>5</td>\n",
       "      <td>60</td>\n",
       "    </tr>\n",
       "    <tr>\n",
       "      <td rowspan=\"5\" valign=\"top\">1</td>\n",
       "      <td>1</td>\n",
       "      <td>6</td>\n",
       "    </tr>\n",
       "    <tr>\n",
       "      <td>2</td>\n",
       "      <td>1</td>\n",
       "    </tr>\n",
       "    <tr>\n",
       "      <td>3</td>\n",
       "      <td>4</td>\n",
       "    </tr>\n",
       "    <tr>\n",
       "      <td>4</td>\n",
       "      <td>13</td>\n",
       "    </tr>\n",
       "    <tr>\n",
       "      <td>5</td>\n",
       "      <td>103</td>\n",
       "    </tr>\n",
       "    <tr>\n",
       "      <td rowspan=\"5\" valign=\"top\">2</td>\n",
       "      <td>1</td>\n",
       "      <td>2</td>\n",
       "    </tr>\n",
       "    <tr>\n",
       "      <td>2</td>\n",
       "      <td>1</td>\n",
       "    </tr>\n",
       "    <tr>\n",
       "      <td>3</td>\n",
       "      <td>2</td>\n",
       "    </tr>\n",
       "    <tr>\n",
       "      <td>4</td>\n",
       "      <td>1</td>\n",
       "    </tr>\n",
       "    <tr>\n",
       "      <td>5</td>\n",
       "      <td>60</td>\n",
       "    </tr>\n",
       "    <tr>\n",
       "      <td>3</td>\n",
       "      <td>5</td>\n",
       "      <td>13</td>\n",
       "    </tr>\n",
       "    <tr>\n",
       "      <td>4</td>\n",
       "      <td>5</td>\n",
       "      <td>4</td>\n",
       "    </tr>\n",
       "    <tr>\n",
       "      <td>6</td>\n",
       "      <td>3</td>\n",
       "      <td>1</td>\n",
       "    </tr>\n",
       "  </tbody>\n",
       "</table>\n",
       "</div>"
      ],
      "text/plain": [
       "                  rating\n",
       "pos_total rating        \n",
       "0         1            5\n",
       "          3            2\n",
       "          4            6\n",
       "          5           60\n",
       "1         1            6\n",
       "          2            1\n",
       "          3            4\n",
       "          4           13\n",
       "          5          103\n",
       "2         1            2\n",
       "          2            1\n",
       "          3            2\n",
       "          4            1\n",
       "          5           60\n",
       "3         5           13\n",
       "4         5            4\n",
       "6         3            1"
      ]
     },
     "execution_count": 106,
     "metadata": {},
     "output_type": "execute_result"
    }
   ],
   "source": [
    "#graph total positive against rating\n",
    "dummy_kind.groupby(['pos_total','rating'])[['rating']].count()"
   ]
  },
  {
   "cell_type": "code",
   "execution_count": 107,
   "metadata": {},
   "outputs": [
    {
     "data": {
      "text/plain": [
       "([<matplotlib.axis.YTick at 0x1a2c55c590>,\n",
       "  <matplotlib.axis.YTick at 0x1a2c554cd0>,\n",
       "  <matplotlib.axis.YTick at 0x1a2c554390>,\n",
       "  <matplotlib.axis.YTick at 0x1a2c603550>,\n",
       "  <matplotlib.axis.YTick at 0x1a2c603ad0>],\n",
       " <a list of 5 Text yticklabel objects>)"
      ]
     },
     "execution_count": 107,
     "metadata": {},
     "output_type": "execute_result"
    },
    {
     "data": {
      "image/png": "[encoded data removed]",
      "text/plain": [
       "<Figure size 432x288 with 1 Axes>"
      ]
     },
     "metadata": {},
     "output_type": "display_data"
    }
   ],
   "source": [
    "plt.figure()\n",
    "plt.scatter(dummy_kind['pos_total'],dummy_kind['rating'])\n",
    "plt.xlabel('pos_total')\n",
    "plt.ylabel('rating')\n",
    "plt.yticks(np.arange(0, 5))"
   ]
  },
  {
   "cell_type": "code",
   "execution_count": 184,
   "metadata": {},
   "outputs": [
    {
     "name": "stdout",
     "output_type": "stream",
     "text": [
      "X train shape: (200, 21)\n",
      "X test shape: (67, 21)\n",
      "y train shape: (200,)\n",
      "y test shape: (67,)\n"
     ]
    }
   ],
   "source": [
    "columns_to_keep = [column for column in dummy_kind.columns if column[0:3] in ['pos', 'neg', 'rating'] and column != 'neg_dark']\n",
    "X = kind_df[columns_to_keep]\n",
    "y = kind_df['Product']\n",
    "\n",
    "X_train, X_test, y_train, y_test = train_test_split(X, y)\n",
    "print('X train shape: {}'.format(X_train.shape))\n",
    "print('X test shape: {}'.format(X_test.shape))\n",
    "print('y train shape: {}'.format(y_train.shape))\n",
    "print('y test shape: {}'.format(y_test.shape))\n",
    "\n",
    "knn = KNeighborsClassifier()\n",
    "knn.fit(X_train, y_train)\n",
    "knn.score(X_train,  y_train)\n",
    "\n",
    "#test scores for various train test splits\n",
    "#test scores for different values of k\n",
    "#test scores for different weights\n"
   ]
  },
  {
   "cell_type": "code",
   "execution_count": 235,
   "metadata": {},
   "outputs": [
    {
     "name": "stdout",
     "output_type": "stream",
     "text": [
      "Score for train split of 0.9 with 1 neighbors is 0.7625\n",
      "Score for train split of 0.9 with 2 neighbors is 0.8583333333333333\n",
      "Score for train split of 0.9 with 3 neighbors is 0.8583333333333333\n",
      "Score for train split of 0.9 with 4 neighbors is 0.8708333333333333\n",
      "Score for train split of 0.9 with 5 neighbors is 0.8583333333333333\n",
      "Score for train split of 0.9 with 6 neighbors is 0.85\n",
      "Score for train split of 0.9 with 7 neighbors is 0.8541666666666666\n",
      "Score for train split of 0.9 with 8 neighbors is 0.875\n",
      "Score for train split of 0.9 with 9 neighbors is 0.8625\n",
      "Score for train split of 0.9 with 10 neighbors is 0.8625\n",
      "Score for train split of 0.85 with 1 neighbors is 0.7831858407079646\n",
      "Score for train split of 0.85 with 2 neighbors is 0.8672566371681416\n",
      "Score for train split of 0.85 with 3 neighbors is 0.8672566371681416\n",
      "Score for train split of 0.85 with 4 neighbors is 0.8495575221238938\n",
      "Score for train split of 0.85 with 5 neighbors is 0.8584070796460177\n",
      "Score for train split of 0.85 with 6 neighbors is 0.8672566371681416\n",
      "Score for train split of 0.85 with 7 neighbors is 0.8584070796460177\n",
      "Score for train split of 0.85 with 8 neighbors is 0.8584070796460177\n",
      "Score for train split of 0.85 with 9 neighbors is 0.8761061946902655\n",
      "Score for train split of 0.85 with 10 neighbors is 0.8761061946902655\n",
      "Score for train split of 0.8 with 1 neighbors is 0.9342723004694836\n",
      "Score for train split of 0.8 with 2 neighbors is 0.8544600938967136\n",
      "Score for train split of 0.8 with 3 neighbors is 0.8591549295774648\n",
      "Score for train split of 0.8 with 4 neighbors is 0.863849765258216\n",
      "Score for train split of 0.8 with 5 neighbors is 0.8732394366197183\n",
      "Score for train split of 0.8 with 6 neighbors is 0.8544600938967136\n",
      "Score for train split of 0.8 with 7 neighbors is 0.8497652582159625\n",
      "Score for train split of 0.8 with 8 neighbors is 0.8591549295774648\n",
      "Score for train split of 0.8 with 9 neighbors is 0.8450704225352113\n",
      "Score for train split of 0.8 with 10 neighbors is 0.8591549295774648\n",
      "Score for train split of 0.75 with 1 neighbors is 0.81\n",
      "Score for train split of 0.75 with 2 neighbors is 0.85\n",
      "Score for train split of 0.75 with 3 neighbors is 0.875\n",
      "Score for train split of 0.75 with 4 neighbors is 0.855\n",
      "Score for train split of 0.75 with 5 neighbors is 0.865\n",
      "Score for train split of 0.75 with 6 neighbors is 0.865\n",
      "Score for train split of 0.75 with 7 neighbors is 0.86\n",
      "Score for train split of 0.75 with 8 neighbors is 0.85\n",
      "Score for train split of 0.75 with 9 neighbors is 0.84\n",
      "Score for train split of 0.75 with 10 neighbors is 0.865\n",
      "Score for train split of 0.7 with 1 neighbors is 0.9086021505376344\n",
      "Score for train split of 0.7 with 2 neighbors is 0.8763440860215054\n",
      "Score for train split of 0.7 with 3 neighbors is 0.8763440860215054\n",
      "Score for train split of 0.7 with 4 neighbors is 0.8548387096774194\n",
      "Score for train split of 0.7 with 5 neighbors is 0.8655913978494624\n",
      "Score for train split of 0.7 with 6 neighbors is 0.8548387096774194\n",
      "Score for train split of 0.7 with 7 neighbors is 0.8655913978494624\n",
      "Score for train split of 0.7 with 8 neighbors is 0.8817204301075269\n",
      "Score for train split of 0.7 with 9 neighbors is 0.8655913978494624\n",
      "Score for train split of 0.7 with 10 neighbors is 0.8440860215053764\n",
      "Score for train split of 0.65 with 1 neighbors is 0.7803468208092486\n",
      "Score for train split of 0.65 with 2 neighbors is 0.8439306358381503\n",
      "Score for train split of 0.65 with 3 neighbors is 0.8554913294797688\n",
      "Score for train split of 0.65 with 4 neighbors is 0.861271676300578\n",
      "Score for train split of 0.65 with 5 neighbors is 0.8439306358381503\n",
      "Score for train split of 0.65 with 6 neighbors is 0.8554913294797688\n",
      "Score for train split of 0.65 with 7 neighbors is 0.8554913294797688\n",
      "Score for train split of 0.65 with 8 neighbors is 0.8439306358381503\n",
      "Score for train split of 0.65 with 9 neighbors is 0.8554913294797688\n",
      "Score for train split of 0.65 with 10 neighbors is 0.8554913294797688\n",
      "Score for train split of 0.6 with 1 neighbors is 0.78125\n",
      "Score for train split of 0.6 with 2 neighbors is 0.85\n",
      "Score for train split of 0.6 with 3 neighbors is 0.85625\n",
      "Score for train split of 0.6 with 4 neighbors is 0.85\n",
      "Score for train split of 0.6 with 5 neighbors is 0.86875\n",
      "Score for train split of 0.6 with 6 neighbors is 0.85\n",
      "Score for train split of 0.6 with 7 neighbors is 0.86875\n",
      "Score for train split of 0.6 with 8 neighbors is 0.83125\n",
      "Score for train split of 0.6 with 9 neighbors is 0.85\n",
      "Score for train split of 0.6 with 10 neighbors is 0.85625\n",
      "Score for train split of 0.55 with 1 neighbors is 0.8767123287671232\n",
      "Score for train split of 0.55 with 2 neighbors is 0.7465753424657534\n",
      "Score for train split of 0.55 with 3 neighbors is 0.8835616438356164\n",
      "Score for train split of 0.55 with 4 neighbors is 0.8493150684931506\n",
      "Score for train split of 0.55 with 5 neighbors is 0.8698630136986302\n",
      "Score for train split of 0.55 with 6 neighbors is 0.8698630136986302\n",
      "Score for train split of 0.55 with 7 neighbors is 0.863013698630137\n",
      "Score for train split of 0.55 with 8 neighbors is 0.8424657534246576\n",
      "Score for train split of 0.55 with 9 neighbors is 0.8698630136986302\n",
      "Score for train split of 0.55 with 10 neighbors is 0.821917808219178\n"
     ]
    }
   ],
   "source": [
    "train_splits = [0.9, 0.85, 0.8, 0.75, 0.7, 0.65, 0.6, 0.55]\n",
    "k_neighbors = range(1,11)\n",
    "weights = ['uniform','distance']\n",
    "\n",
    "#def optimize_model()\n",
    "scores = []\n",
    "for split in train_splits:\n",
    "    for neighbor in k_neighbors:\n",
    "        X_train, X_test, y_train, y_test = train_test_split(X, y, train_size = split)\n",
    "        knn = KNeighborsClassifier(n_neighbors = neighbor)\n",
    "        knn.fit(X_train, y_train)\n",
    "        score = knn.score(X_train, y_train)\n",
    "        scores.append((neighbor, split, score))\n",
    "        print('Score for train split of {} with {} neighbors is {}'.format(split, neighbor, score))\n",
    "\n",
    "score_output = pd.DataFrame(scores, columns = ['n','split','score'])"
   ]
  },
  {
   "cell_type": "code",
   "execution_count": 213,
   "metadata": {},
   "outputs": [
    {
     "data": {
      "text/plain": [
       "Text(0, 0.5, 'score')"
      ]
     },
     "execution_count": 213,
     "metadata": {},
     "output_type": "execute_result"
    },
    {
     "data": {
      "image/png": "[encoded data removed]",
      "text/plain": [
       "<Figure size 432x288 with 1 Axes>"
      ]
     },
     "metadata": {},
     "output_type": "display_data"
    }
   ],
   "source": [
    "plt.scatter(score_output['split'], score_output['score'])\n",
    "plt.xlabel('split')\n",
    "plt.ylabel('score')"
   ]
  },
  {
   "cell_type": "code",
   "execution_count": 215,
   "metadata": {},
   "outputs": [
    {
     "data": {
      "text/plain": [
       "Text(0, 0.5, 'score')"
      ]
     },
     "execution_count": 215,
     "metadata": {},
     "output_type": "execute_result"
    },
    {
     "data": {
      "image/png": "[encoded data removed]",
      "text/plain": [
       "<Figure size 432x288 with 1 Axes>"
      ]
     },
     "metadata": {},
     "output_type": "display_data"
    }
   ],
   "source": [
    "plt.scatter(score_output['n'], score_output['score'])\n",
    "plt.xlabel('neighbors')\n",
    "plt.ylabel('score')"
   ]
  },
  {
   "cell_type": "code",
   "execution_count": 227,
   "metadata": {},
   "outputs": [
    {
     "data": {
      "text/plain": [
       "[(10, 0.6, 0.9)]"
      ]
     },
     "execution_count": 227,
     "metadata": {},
     "output_type": "execute_result"
    }
   ],
   "source": [
    "[(x, y, z) for (x, y, z) in scores if z == 0.9]"
   ]
  },
  {
   "cell_type": "code",
   "execution_count": 231,
   "metadata": {},
   "outputs": [
    {
     "data": {
      "text/plain": [
       "array([1., 1., 1., 1., 1., 1., 1., 1., 1., 1., 1., 1., 1., 1., 1., 1., 1.,\n",
       "       1., 1., 1., 1., 1., 1., 1., 1., 1., 1., 1., 1., 1., 1., 3., 1., 1.,\n",
       "       1., 1., 1., 1., 1., 1., 1., 1., 1., 1., 1., 1., 1., 1., 1., 1., 1.,\n",
       "       1., 1., 1., 1., 1., 1., 1., 1., 1., 1., 1., 1., 1., 1., 1., 1., 1.,\n",
       "       1., 1., 1., 1., 1., 1., 1., 1., 1., 1., 1., 1., 1., 1., 1., 1., 1.,\n",
       "       1., 1., 1., 1., 1., 1., 1., 1., 1., 1., 1., 1., 1., 1., 1., 1., 1.,\n",
       "       1., 1., 1., 1., 1., 1., 1., 1., 1., 1., 1., 1., 1., 1., 1., 1., 1.,\n",
       "       1., 1.])"
      ]
     },
     "execution_count": 231,
     "metadata": {},
     "output_type": "execute_result"
    }
   ],
   "source": [
    "knn.predict(X_test)"
   ]
  }
 ],
 "metadata": {
  "kernelspec": {
   "display_name": "Python 3",
   "language": "python",
   "name": "python3"
  },
  "language_info": {
   "codemirror_mode": {
    "name": "ipython",
    "version": 3
   },
   "file_extension": ".py",
   "mimetype": "text/x-python",
   "name": "python",
   "nbconvert_exporter": "python",
   "pygments_lexer": "ipython3",
   "version": "3.7.4"
  }
 },
 "nbformat": 4,
 "nbformat_minor": 2
}
