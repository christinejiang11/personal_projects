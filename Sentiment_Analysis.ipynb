{
 "cells": [
  {
   "cell_type": "markdown",
   "metadata": {},
   "source": [
    "## Sentiment Analysis for Whispr\n",
    "\n",
    "1. import data from google sheets\n",
    "2. evaluate sentiment of review, show confidence interval\n",
    "3. output data to google sheet\n",
    "4. plot sentiment counts"
   ]
  },
  {
   "cell_type": "code",
   "execution_count": 264,
   "metadata": {},
   "outputs": [],
   "source": [
    "import pandas as pd\n",
    "import numpy as np\n",
    "import os\n",
    "from textblob import TextBlob\n",
    "import gspread\n",
    "from datetime import datetime\n",
    "from oauth2client.service_account import ServiceAccountCredentials\n",
    "from matplotlib import pyplot as plt\n",
    "import seaborn as sns\n",
    "\n",
    "%matplotlib inline"
   ]
  },
  {
   "cell_type": "code",
   "execution_count": 43,
   "metadata": {},
   "outputs": [],
   "source": [
    "#1 define the scope of your access tokens\n",
    "scope = ['https://www.googleapis.com/auth/drive','https://spreadsheets.google.com/feeds']\n",
    "\n",
    "#2 after getting oauth2 credentials in a json, obtain an access token from google authorization server\n",
    "#by creating serviceaccountcredentials and indicating scope, which controls resources / operations that an\n",
    "#access token permits\n",
    "creds = ServiceAccountCredentials.from_json_keyfile_name('client_secret.json', scope)\n",
    "\n",
    "#3 log into the google API using oauth2 credentials\n",
    "#returns gspread.Client instance\n",
    "c = gspread.authorize(creds)"
   ]
  },
  {
   "cell_type": "code",
   "execution_count": 176,
   "metadata": {},
   "outputs": [],
   "source": [
    "#create spreadsheet instance\n",
    "spreadsheet = c.open('UK Sentiment')\n",
    "\n",
    "#create worksheet instance\n",
    "worksheet = spreadsheet.worksheet('UK_Reviews')\n",
    "\n",
    "#get list of dictionaries from worksheet contents\n",
    "records = worksheet.get_all_records()\n",
    "\n",
    "#create dataframe from this list of dictionaries\n",
    "reviews = pd.DataFrame(records)\n",
    "columns_to_keep = ['review_rating',\n",
    "                  'review_datedate',\n",
    "                  'review_headline',\n",
    "                  'review_size_info',\n",
    "                  'Review']\n",
    "clean_reviews = reviews[columns_to_keep]"
   ]
  },
  {
   "cell_type": "code",
   "execution_count": 271,
   "metadata": {},
   "outputs": [
    {
     "name": "stderr",
     "output_type": "stream",
     "text": [
      "/Users/christinejiang/opt/anaconda3/lib/python3.7/site-packages/ipykernel_launcher.py:5: SettingWithCopyWarning: \n",
      "A value is trying to be set on a copy of a slice from a DataFrame.\n",
      "Try using .loc[row_indexer,col_indexer] = value instead\n",
      "\n",
      "See the caveats in the documentation: http://pandas.pydata.org/pandas-docs/stable/user_guide/indexing.html#returning-a-view-versus-a-copy\n",
      "  \"\"\"\n",
      "/Users/christinejiang/opt/anaconda3/lib/python3.7/site-packages/ipykernel_launcher.py:9: SettingWithCopyWarning: \n",
      "A value is trying to be set on a copy of a slice from a DataFrame.\n",
      "Try using .loc[row_indexer,col_indexer] = value instead\n",
      "\n",
      "See the caveats in the documentation: http://pandas.pydata.org/pandas-docs/stable/user_guide/indexing.html#returning-a-view-versus-a-copy\n",
      "  if __name__ == '__main__':\n",
      "/Users/christinejiang/opt/anaconda3/lib/python3.7/site-packages/ipykernel_launcher.py:13: SettingWithCopyWarning: \n",
      "A value is trying to be set on a copy of a slice from a DataFrame.\n",
      "Try using .loc[row_indexer,col_indexer] = value instead\n",
      "\n",
      "See the caveats in the documentation: http://pandas.pydata.org/pandas-docs/stable/user_guide/indexing.html#returning-a-view-versus-a-copy\n",
      "  del sys.path[0]\n"
     ]
    }
   ],
   "source": [
    "#data preprocessing\n",
    "\n",
    "#create numeric rating column\n",
    "strip = lambda x: int(x[0])\n",
    "clean_reviews['rating'] = clean_reviews['review_rating'].apply(strip)\n",
    "\n",
    "#create timestamp from review date\n",
    "dates = lambda x: datetime.strptime(x, '%d %B %Y')\n",
    "clean_reviews['datestamp'] = clean_reviews['review_datedate'].apply(dates)\n",
    "\n",
    "#create shortened object name\n",
    "test = lambda x: x.split(': ')[-1]\n",
    "clean_reviews['clean_headline'] = clean_reviews['review_size_info'].apply(test)\n",
    "\n",
    "final_clean = clean_reviews[['rating','datestamp','clean_headline','review_headline','Review']]"
   ]
  },
  {
   "cell_type": "code",
   "execution_count": 272,
   "metadata": {},
   "outputs": [
    {
     "data": {
      "text/html": [
       "<div>\n",
       "<style scoped>\n",
       "    .dataframe tbody tr th:only-of-type {\n",
       "        vertical-align: middle;\n",
       "    }\n",
       "\n",
       "    .dataframe tbody tr th {\n",
       "        vertical-align: top;\n",
       "    }\n",
       "\n",
       "    .dataframe thead th {\n",
       "        text-align: right;\n",
       "    }\n",
       "</style>\n",
       "<table border=\"1\" class=\"dataframe\">\n",
       "  <thead>\n",
       "    <tr style=\"text-align: right;\">\n",
       "      <th></th>\n",
       "      <th>rating</th>\n",
       "      <th>datestamp</th>\n",
       "      <th>clean_headline</th>\n",
       "      <th>review_headline</th>\n",
       "      <th>Review</th>\n",
       "    </tr>\n",
       "  </thead>\n",
       "  <tbody>\n",
       "    <tr>\n",
       "      <td>0</td>\n",
       "      <td>5</td>\n",
       "      <td>2017-11-02</td>\n",
       "      <td>Dark Chocolate Nuts and Sea Salt</td>\n",
       "      <td>A very tasty and well-balanced treat</td>\n",
       "      <td>I really like these bars, and so do the other ...</td>\n",
       "    </tr>\n",
       "    <tr>\n",
       "      <td>1</td>\n",
       "      <td>5</td>\n",
       "      <td>2019-08-04</td>\n",
       "      <td>Dark Chocolate Nuts and Sea Salt</td>\n",
       "      <td>Great size snack for those of us wanting a hea...</td>\n",
       "      <td>I purchased these because I’m on the 16:8 IF d...</td>\n",
       "    </tr>\n",
       "    <tr>\n",
       "      <td>2</td>\n",
       "      <td>5</td>\n",
       "      <td>2019-08-20</td>\n",
       "      <td>Dark Chocolate Nuts and Sea Salt</td>\n",
       "      <td>Price varies a lot !!!</td>\n",
       "      <td>These are great bars. I find when I'm training...</td>\n",
       "    </tr>\n",
       "    <tr>\n",
       "      <td>3</td>\n",
       "      <td>5</td>\n",
       "      <td>2019-09-07</td>\n",
       "      <td>Dark Chocolate Almond Mint</td>\n",
       "      <td>Possibly the best tasting healthiest snack bar...</td>\n",
       "      <td>Not a protein bar but a very health-designed s...</td>\n",
       "    </tr>\n",
       "    <tr>\n",
       "      <td>4</td>\n",
       "      <td>5</td>\n",
       "      <td>2019-05-09</td>\n",
       "      <td>Dark Chocolate Nuts and Sea Salt</td>\n",
       "      <td>Definitely a bar to try and enjoy</td>\n",
       "      <td>So good and actually quite low in sugar all co...</td>\n",
       "    </tr>\n",
       "  </tbody>\n",
       "</table>\n",
       "</div>"
      ],
      "text/plain": [
       "   rating  datestamp                    clean_headline  \\\n",
       "0       5 2017-11-02  Dark Chocolate Nuts and Sea Salt   \n",
       "1       5 2019-08-04  Dark Chocolate Nuts and Sea Salt   \n",
       "2       5 2019-08-20  Dark Chocolate Nuts and Sea Salt   \n",
       "3       5 2019-09-07        Dark Chocolate Almond Mint   \n",
       "4       5 2019-05-09  Dark Chocolate Nuts and Sea Salt   \n",
       "\n",
       "                                     review_headline  \\\n",
       "0               A very tasty and well-balanced treat   \n",
       "1  Great size snack for those of us wanting a hea...   \n",
       "2                             Price varies a lot !!!   \n",
       "3  Possibly the best tasting healthiest snack bar...   \n",
       "4                  Definitely a bar to try and enjoy   \n",
       "\n",
       "                                              Review  \n",
       "0  I really like these bars, and so do the other ...  \n",
       "1  I purchased these because I’m on the 16:8 IF d...  \n",
       "2  These are great bars. I find when I'm training...  \n",
       "3  Not a protein bar but a very health-designed s...  \n",
       "4  So good and actually quite low in sugar all co...  "
      ]
     },
     "execution_count": 272,
     "metadata": {},
     "output_type": "execute_result"
    }
   ],
   "source": [
    "final_clean.head()"
   ]
  },
  {
   "cell_type": "code",
   "execution_count": 273,
   "metadata": {},
   "outputs": [
    {
     "data": {
      "image/png": "[encoded data removed]",
      "text/plain": [
       "<Figure size 720x216 with 1 Axes>"
      ]
     },
     "metadata": {
      "needs_background": "light"
     },
     "output_type": "display_data"
    },
    {
     "data": {
      "image/png": "[encoded data removed]",
      "text/plain": [
       "<Figure size 720x216 with 1 Axes>"
      ]
     },
     "metadata": {
      "needs_background": "light"
     },
     "output_type": "display_data"
    }
   ],
   "source": [
    "plt.rcParams['figure.figsize'] = [10,3]\n",
    "plt.show(sns.countplot(final_clean['clean_headline']))\n",
    "\n",
    "plt.show(sns.countplot(final_clean['rating']))"
   ]
  },
  {
   "cell_type": "code",
   "execution_count": 277,
   "metadata": {},
   "outputs": [
    {
     "name": "stderr",
     "output_type": "stream",
     "text": [
      "/Users/christinejiang/opt/anaconda3/lib/python3.7/site-packages/ipykernel_launcher.py:2: SettingWithCopyWarning: \n",
      "A value is trying to be set on a copy of a slice from a DataFrame.\n",
      "Try using .loc[row_indexer,col_indexer] = value instead\n",
      "\n",
      "See the caveats in the documentation: http://pandas.pydata.org/pandas-docs/stable/user_guide/indexing.html#returning-a-view-versus-a-copy\n",
      "  \n",
      "/Users/christinejiang/opt/anaconda3/lib/python3.7/site-packages/ipykernel_launcher.py:3: SettingWithCopyWarning: \n",
      "A value is trying to be set on a copy of a slice from a DataFrame.\n",
      "Try using .loc[row_indexer,col_indexer] = value instead\n",
      "\n",
      "See the caveats in the documentation: http://pandas.pydata.org/pandas-docs/stable/user_guide/indexing.html#returning-a-view-versus-a-copy\n",
      "  This is separate from the ipykernel package so we can avoid doing imports until\n"
     ]
    }
   ],
   "source": [
    "pol = lambda x: TextBlob(x).polarity\n",
    "final_clean['headline_pol'] = final_clean['review_headline'].apply(pol)\n",
    "final_clean['review_pol'] = final_clean['Review'].apply(pol)"
   ]
  },
  {
   "cell_type": "code",
   "execution_count": 280,
   "metadata": {},
   "outputs": [
    {
     "data": {
      "text/html": [
       "<div>\n",
       "<style scoped>\n",
       "    .dataframe tbody tr th:only-of-type {\n",
       "        vertical-align: middle;\n",
       "    }\n",
       "\n",
       "    .dataframe tbody tr th {\n",
       "        vertical-align: top;\n",
       "    }\n",
       "\n",
       "    .dataframe thead th {\n",
       "        text-align: right;\n",
       "    }\n",
       "</style>\n",
       "<table border=\"1\" class=\"dataframe\">\n",
       "  <thead>\n",
       "    <tr style=\"text-align: right;\">\n",
       "      <th></th>\n",
       "      <th>rating</th>\n",
       "      <th>datestamp</th>\n",
       "      <th>clean_headline</th>\n",
       "      <th>review_headline</th>\n",
       "      <th>Review</th>\n",
       "      <th>headline_pol</th>\n",
       "      <th>review_pol</th>\n",
       "    </tr>\n",
       "  </thead>\n",
       "  <tbody>\n",
       "    <tr>\n",
       "      <td>131</td>\n",
       "      <td>5</td>\n",
       "      <td>2018-05-18</td>\n",
       "      <td>Caramel Almond and Sea Salt</td>\n",
       "      <td>Five Stars</td>\n",
       "      <td>A bit expensive though...!?</td>\n",
       "      <td>0.0</td>\n",
       "      <td>-0.625</td>\n",
       "    </tr>\n",
       "  </tbody>\n",
       "</table>\n",
       "</div>"
      ],
      "text/plain": [
       "     rating  datestamp               clean_headline review_headline  \\\n",
       "131       5 2018-05-18  Caramel Almond and Sea Salt      Five Stars   \n",
       "\n",
       "                          Review  headline_pol  review_pol  \n",
       "131  A bit expensive though...!?           0.0      -0.625  "
      ]
     },
     "execution_count": 280,
     "metadata": {},
     "output_type": "execute_result"
    }
   ],
   "source": [
    "final_clean[final_clean['review_pol'] < -0.5]"
   ]
  },
  {
   "cell_type": "code",
   "execution_count": null,
   "metadata": {},
   "outputs": [],
   "source": []
  }
 ],
 "metadata": {
  "kernelspec": {
   "display_name": "Python 3",
   "language": "python",
   "name": "python3"
  },
  "language_info": {
   "codemirror_mode": {
    "name": "ipython",
    "version": 3
   },
   "file_extension": ".py",
   "mimetype": "text/x-python",
   "name": "python",
   "nbconvert_exporter": "python",
   "pygments_lexer": "ipython3",
   "version": "3.7.4"
  }
 },
 "nbformat": 4,
 "nbformat_minor": 2
}
